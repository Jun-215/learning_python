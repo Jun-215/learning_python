{
 "cells": [
  {
   "cell_type": "markdown",
   "id": "017a3f46",
   "metadata": {},
   "source": [
    "# 定义类"
   ]
  },
  {
   "cell_type": "markdown",
   "id": "f10e94d4",
   "metadata": {},
   "source": [
    "1.旧方法"
   ]
  },
  {
   "cell_type": "code",
   "execution_count": null,
   "id": "c46d19cf",
   "metadata": {},
   "outputs": [],
   "source": [
    "class Car():\n",
    "    def __init__(self):\n",
    "        pass"
   ]
  },
  {
   "cell_type": "markdown",
   "id": "3cd4e0df",
   "metadata": {},
   "source": [
    "2.旧方法2"
   ]
  },
  {
   "cell_type": "code",
   "execution_count": null,
   "id": "a468d1e6",
   "metadata": {},
   "outputs": [],
   "source": [
    "class Car:\n",
    "    def __init__(self):\n",
    "        pass"
   ]
  },
  {
   "cell_type": "markdown",
   "id": "33a0ecea",
   "metadata": {},
   "source": [
    "3.新方法"
   ]
  },
  {
   "cell_type": "code",
   "execution_count": null,
   "id": "d48bf13d",
   "metadata": {},
   "outputs": [],
   "source": [
    "class Car(object):\n",
    "    def __init__(self):\n",
    "        pass"
   ]
  },
  {
   "cell_type": "markdown",
   "id": "21503058",
   "metadata": {},
   "source": [
    "# 魔法方法\n",
    "\n",
    "方法名被双下划线所包围在某些特殊情况下自动调用的方法"
   ]
  },
  {
   "cell_type": "markdown",
   "id": "4bf73ab8",
   "metadata": {},
   "source": [
    "# str\n",
    "\n",
    "print对象时，被python解释器自动调用，输出该方法返回的结果"
   ]
  },
  {
   "cell_type": "markdown",
   "id": "5b56a6c4",
   "metadata": {},
   "source": [
    "1.此方法必须要求有返回值\n",
    "\n",
    "2.如果没str方法，print(mycar)，输出的是地址"
   ]
  },
  {
   "cell_type": "code",
   "execution_count": 8,
   "id": "df273b61",
   "metadata": {},
   "outputs": [
    {
     "name": "stdout",
     "output_type": "stream",
     "text": [
      "<__main__.Car object at 0x000002B4F6237320>\n"
     ]
    }
   ],
   "source": [
    "class Car:\n",
    "    def __init__(self,color,number):\n",
    "        self.color = color\n",
    "        self.number = number\n",
    "\n",
    "    def run(self):\n",
    "        print(\"跑起来\")\n",
    "\n",
    "    def show(self):\n",
    "        print(f\"车的颜色：{self.color}，车的轮胎数：{self.number}\")\n",
    "\n",
    "    # def __str__(self):\n",
    "    #     print(f\"车的颜色：{self.color}，车的轮胎数：{self.number}\")\n",
    "    #     # __str__ 的规定是 必须返回字符串,而不是在控制台打印字符串\n",
    "    #     return (f\"车的颜色：{self.color}，车的轮胎数：{self.number}\")\n",
    "\n",
    "#\n",
    "mycar = Car(\"red\",4)\n",
    "\n",
    "print(mycar)"
   ]
  },
  {
   "cell_type": "markdown",
   "id": "502641cc",
   "metadata": {},
   "source": [
    "## del\n",
    "\n",
    "删除对象时，被python解释器自动调动\n",
    "\n",
    "1.只有用py文件程序退出的时候才会执行\n",
    "\n",
    "2.不管是否手动添加，py解释器都会在程序退出进行清理"
   ]
  },
  {
   "cell_type": "code",
   "execution_count": 10,
   "id": "645bd430",
   "metadata": {},
   "outputs": [
    {
     "name": "stdout",
     "output_type": "stream",
     "text": [
      "name:小米,color:green\n"
     ]
    }
   ],
   "source": [
    "class Car:\n",
    "\n",
    "    def __init__(self):\n",
    "        self.name = \"小米\"\n",
    "        self.color = \"green\"\n",
    "\n",
    "    def __str__(self):\n",
    "        return (f\"name:{self.name},color:{self.color}\")\n",
    "    \n",
    "    def __del__(self):\n",
    "        print(\"清理资源\")\n",
    "\n",
    "mycar = Car()\n",
    "print(mycar)"
   ]
  },
  {
   "cell_type": "markdown",
   "id": "87fa2b02",
   "metadata": {},
   "source": [
    "## 练习"
   ]
  },
  {
   "cell_type": "markdown",
   "id": "edaff981",
   "metadata": {},
   "source": [
    "小明同学当前体重是100kg。每当他跑步一次时，则会减少0.5kg；每当他大吃大喝一次时，则会增加2kg。请试着采用面向对象方式完成案例。\n"
   ]
  },
  {
   "cell_type": "code",
   "execution_count": 13,
   "id": "8506c95a",
   "metadata": {},
   "outputs": [
    {
     "name": "stdout",
     "output_type": "stream",
     "text": [
      "跑完步，小米的体重为：99.5\n",
      "跑完步，小米的体重为：99.0\n",
      "大吃大喝后，小米的体重为：101.0\n"
     ]
    }
   ],
   "source": [
    "class Run:\n",
    "\n",
    "    def __init__(self):\n",
    "        self.name = \"小米\"\n",
    "        self.weight = 100\n",
    "\n",
    "    def run(self):\n",
    "        self.weight-=0.5\n",
    "        print(f\"跑完步，小米的体重为：{self.weight}\")\n",
    "\n",
    "    def eat(self):\n",
    "        self.weight += 2\n",
    "        print(f\"大吃大喝后，{self.name}的体重为：{self.weight}\")\n",
    "\n",
    "\n",
    "p = Run()\n",
    "\n",
    "p.run()\n",
    "p.run()\n",
    "\n",
    "p.eat()"
   ]
  },
  {
   "cell_type": "markdown",
   "id": "64b7ecc2",
   "metadata": {},
   "source": [
    "烤地瓜，有被烤的时间、生熟状态、加调料"
   ]
  },
  {
   "cell_type": "code",
   "execution_count": 42,
   "id": "bbb6d9b4",
   "metadata": {},
   "outputs": [
    {
     "name": "stdout",
     "output_type": "stream",
     "text": [
      "这个地瓜，已经烤8分钟，是熟了，作料：['辣椒酱，番茄酱']\n"
     ]
    }
   ],
   "source": [
    "class SweetPotato():\n",
    "    def __init__(self):\n",
    "        self.time = 0\n",
    "        self.state = \"生的\"\n",
    "        self.tiaoliao = []\n",
    "        \n",
    "\n",
    "    def roast(self,time):\n",
    "        self.time += time\n",
    "\n",
    "        if self.time >= 12:\n",
    "            self.state = \"烤糊了\"\n",
    "\n",
    "        elif self.time >= 7:\n",
    "            self.state = \"熟了\"\n",
    "\n",
    "        elif self.time >= 3:\n",
    "            self.state = \"半生熟\"\n",
    "\n",
    "        elif self.time >= 0:\n",
    "            self.state = \"生的\"\n",
    "        else:\n",
    "            self.state = \"不能吃\"\n",
    "        \n",
    "\n",
    "    def add_tiaoliao(self,tiaoliao):\n",
    "        self.tiaoliao.append(tiaoliao)\n",
    "\n",
    "    \n",
    "\n",
    "\n",
    "    def __str__(self):\n",
    "        return (f\"这个地瓜，已经烤{self.time}分钟，是{self.state}，作料：{self.tiaoliao}\")\n",
    "    \n",
    "s = SweetPotato()\n",
    "s.roast(4)\n",
    "s.add_tiaoliao(\"辣椒酱，番茄酱\")\n",
    "s.roast(4)\n",
    "\n",
    "print(s)"
   ]
  },
  {
   "cell_type": "markdown",
   "id": "5023a252",
   "metadata": {},
   "source": [
    "# 继承"
   ]
  },
  {
   "cell_type": "markdown",
   "id": "e9623a27",
   "metadata": {},
   "source": [
    "## 多继承"
   ]
  },
  {
   "cell_type": "markdown",
   "id": "9db24674",
   "metadata": {},
   "source": [
    "多继承就是一个类同时继承了多个父类，并且同时具有所有父类的属性和方法"
   ]
  },
  {
   "cell_type": "markdown",
   "id": "58c8958c",
   "metadata": {},
   "source": [
    "继承顺序：如果一个类继承多个父类，优先继承第一个父类的同名属性和方法"
   ]
  },
  {
   "cell_type": "code",
   "execution_count": 59,
   "id": "cbf1380d",
   "metadata": {},
   "outputs": [
    {
     "name": "stdout",
     "output_type": "stream",
     "text": [
      "运用秘诀来赚钱\n",
      "运用秘诀来赚钱\n"
     ]
    }
   ],
   "source": [
    "class Father(object):\n",
    "    def __init__(self):\n",
    "        self.earn = \"秘诀\"\n",
    "\n",
    "    def make_earn(self):\n",
    "        print(f\"运用{self.earn}来赚钱\")\n",
    "\n",
    "\n",
    "class Mother(object):\n",
    "    def __init__(self):\n",
    "        self.earn = \"做饭\"\n",
    "\n",
    "    def make_earn(self):\n",
    "        print(f\"运用{self.earn}来赚钱\")\n",
    "\n",
    "\n",
    "class Son(Father,Mother):\n",
    "    pass\n",
    "\n",
    "\n",
    "\n",
    "s = Son()\n",
    "s.make_earn()\n",
    "s.make_earn()\n",
    "\n"
   ]
  },
  {
   "cell_type": "markdown",
   "id": "d7aa2bcd",
   "metadata": {},
   "source": [
    "MRO(Method Resolution Order)：方法解析顺序"
   ]
  },
  {
   "cell_type": "markdown",
   "id": "a0e86d65",
   "metadata": {},
   "source": [
    "当一个类有多个父类时，默认使用第一个父类的同名属性和方法，可以使用类名._mro_属性或类名.mro()方法查看调用的先后顺序。\n",
    "\n",
    "类名.mro()返回的是列表\n",
    "\n",
    "类名.__mro_ 返回的是元组"
   ]
  },
  {
   "cell_type": "code",
   "execution_count": 63,
   "id": "3f5f0881",
   "metadata": {},
   "outputs": [
    {
     "data": {
      "text/plain": [
       "(__main__.Son, __main__.Father, __main__.Mother, object)"
      ]
     },
     "execution_count": 63,
     "metadata": {},
     "output_type": "execute_result"
    }
   ],
   "source": [
    "Son.mro()\n",
    "Son.__mro__\n"
   ]
  },
  {
   "cell_type": "markdown",
   "id": "c3d894dd",
   "metadata": {},
   "source": [
    "## 子类重写父类同名方法和属性"
   ]
  },
  {
   "cell_type": "markdown",
   "id": "3b86ca6c",
   "metadata": {},
   "source": [
    "重写也叫作覆盖，就是当子类属性或方法与父类的属性或方法名字相同时，从父类继承下来的成员可以重新定义！\n",
    "\n",
    "子类重写父类的属性和方法，**优先会调用子类的属性和方法**"
   ]
  },
  {
   "cell_type": "markdown",
   "id": "5f5ed185",
   "metadata": {},
   "source": [
    "如果子类和父类拥有同名属性和方法，子类创建对象调用属性和方法的时候，调用到的是子类里面的同名属性和方法"
   ]
  },
  {
   "cell_type": "code",
   "execution_count": 65,
   "id": "2bd89c35",
   "metadata": {},
   "outputs": [
    {
     "name": "stdout",
     "output_type": "stream",
     "text": [
      "运用AI来赚钱\n"
     ]
    }
   ],
   "source": [
    "class Father(object):\n",
    "    def __init__(self):\n",
    "        self.earn = \"秘诀\"\n",
    "\n",
    "    def make_earn(self):\n",
    "        print(f\"运用{self.earn}来赚钱\")\n",
    "\n",
    "\n",
    "class Mother(object):\n",
    "    def __init__(self):\n",
    "        self.earn = \"做饭\"\n",
    "\n",
    "    def make_earn(self):\n",
    "        print(f\"运用{self.earn}来赚钱\")\n",
    "\n",
    "\n",
    "class Son(Father,Mother):\n",
    "    def __init__(self):\n",
    "        self.earn = \"AI\"\n",
    "\n",
    "    def make_earn(self):\n",
    "        print(f\"运用{self.earn}来赚钱\")\n",
    "\n",
    "\n",
    "\n",
    "s = Son()\n",
    "s.make_earn()\n",
    "\n",
    "\n"
   ]
  },
  {
   "cell_type": "markdown",
   "id": "a290f7d1",
   "metadata": {},
   "source": [
    "## 子类调用父类方法\n",
    "\n",
    "1.``父类名.父类方法名(self)``\n",
    " - ``父类.__init__(self)``\n",
    " - ``父类.父类方法名(self)``\n",
    "\n",
    "2.``super()``\n",
    " - ``super.__init__()``\n",
    " - ``super.父类方法名()``"
   ]
  },
  {
   "cell_type": "markdown",
   "id": "104092ae",
   "metadata": {},
   "source": [
    "子类中仍想要**保留父类的行为**，则需要在子类中**调用父类方法**.可以直接使用父类名来调用：\n",
    "\n",
    "``父类名.父类方法名(self)``"
   ]
  },
  {
   "cell_type": "code",
   "execution_count": 116,
   "id": "8160d578",
   "metadata": {},
   "outputs": [
    {
     "name": "stdout",
     "output_type": "stream",
     "text": [
      "运用秘诀来赚钱\n",
      "运用做饭来赚钱\n"
     ]
    }
   ],
   "source": [
    "class Father(object):\n",
    "    def __init__(self):\n",
    "        self.earn = \"秘诀\"\n",
    "\n",
    "    def make_earn(self):\n",
    "        print(f\"运用{self.earn}来赚钱\")\n",
    "\n",
    "\n",
    "class Mother(object):\n",
    "    def __init__(self):\n",
    "        self.earn = \"做饭\"\n",
    "\n",
    "    def make_earn(self):\n",
    "        print(f\"运用{self.earn}来赚钱\")\n",
    "\n",
    "# 添加父类同名的属性和方法\n",
    "class Son(Father,Mother):\n",
    "    def __init__(self):\n",
    "        self.earn = \"AI\"\n",
    "\n",
    "    def make_son_earn(self):\n",
    "        print(f\"运用{self.earn}来赚钱\")\n",
    "\n",
    "    def make_father_earn(self):\n",
    "        # 父类初始化\n",
    "        Father.__init__(self)\n",
    "        # 父类名字.函数(self)\n",
    "        Father.make_earn(self)\n",
    "\n",
    "    def make_mother_earn(self):\n",
    "        Mother.__init__(self)\n",
    "        Mother.make_earn(self)\n",
    "\n",
    "\n",
    "\n",
    "s = Son()\n",
    "s.make_father_earn()\n",
    "s.make_mother_earn()\n",
    "\n",
    "\n",
    "\n"
   ]
  },
  {
   "cell_type": "markdown",
   "id": "3b26f2eb",
   "metadata": {},
   "source": [
    "问题：为什么Father._init_(self)，要_init_一下？\n",
    "\n",
    "Son._init_ 默认不会调用父类的 _init_。\n",
    "\n",
    "如果你只执行 Father.make_earn(self)，打印的会是 Son 的 \"AI\"，而不是父类的 \"秘诀\"。\n",
    "\n",
    "通过 Father._init_(self)，你显式初始化父类，恢复父类的 self.earn。"
   ]
  },
  {
   "cell_type": "markdown",
   "id": "0ca1f569",
   "metadata": {},
   "source": [
    "## super()\n",
    "\n",
    "**这里不需要 self！**\n",
    "\n",
    "为什么呢？因为：\n",
    "\n",
    "super() 本质上会创建一个特殊对象，它知道 当前类是谁，以及 当前实例（self）是谁。\n",
    "\n",
    "所以 super() 在背后已经“带上了 self”，你只要写 __init__()，它会自动把 self 传进去\n",
    "\n",
    "\n"
   ]
  },
  {
   "cell_type": "code",
   "execution_count": 87,
   "id": "72cd0ae7",
   "metadata": {},
   "outputs": [
    {
     "name": "stdout",
     "output_type": "stream",
     "text": [
      "运用秘诀来赚钱\n"
     ]
    }
   ],
   "source": [
    "class Father(object):\n",
    "    def __init__(self):\n",
    "        self.earn = \"秘诀\"\n",
    "\n",
    "    def make_f_earn(self):\n",
    "        print(f\"运用{self.earn}来赚钱\")\n",
    "\n",
    "\n",
    "class Son(Father):\n",
    "    def __init__(self):\n",
    "        self.earn = \"自己的\"\n",
    "    def make_s_earn(self):\n",
    "        print(f\"运用{self.earn}来赚钱\")\n",
    "\n",
    "    def make_f_earn_bySuper(self):\n",
    "        super().__init__()\n",
    "        super().make_f_earn()\n",
    "\n",
    "\n",
    "s = Son()\n",
    "\n",
    "s.make_f_earn_bySuper()"
   ]
  },
  {
   "cell_type": "markdown",
   "id": "81533346",
   "metadata": {},
   "source": [
    "\n",
    "1. 用 **`super()`**\n",
    "2. 用 **父类名直接调用**（比如 `Father.__init__(self)`）\n",
    "\n",
    "它们表面效果类似，但在 **继承关系简单** 时几乎一样，在 **多继承** 时差别很大。\n",
    "我来逐层拆开讲 👇\n",
    "\n",
    "---\n",
    "\n",
    "### 🎯 1. 第一种写法：用 `super()`\n",
    "\n",
    "例子：\n",
    "\n",
    "```python\n",
    "class Son(Father):\n",
    "    def __init__(self):\n",
    "        self.earn = \"自己的\"\n",
    "\n",
    "    def make_f_earn_bySuper(self):\n",
    "        super().__init__()       # 调用父类构造函数\n",
    "        super().make_f_earn()    # 调用父类方法\n",
    "```\n",
    "\n",
    "这里 `super()` 的含义是：\n",
    "\n",
    "* **根据 MRO（方法解析顺序）找“下一个类”**，而不是硬编码父类。\n",
    "* 在 `Son(Father)` 这种简单继承下，MRO 是：\n",
    "\n",
    "  ```\n",
    "  Son → Father → object\n",
    "  ```\n",
    "\n",
    "  所以 `super().__init__()` 就是调用 `Father.__init__`。\n",
    "\n",
    "👉 这种写法的好处：\n",
    "\n",
    "* 更通用，假如将来 `Son` 继承多个类，`super()` 会自动按照 MRO 调用，不需要你一个个写 `Father.__init__`、`Mother.__init__`。\n",
    "* 可以避免 **重复调用**。在复杂继承里，`super()` 能保证每个父类的 `__init__` 执行一次，不会漏也不会多。\n",
    "\n",
    "---\n",
    "\n",
    "### 🎯 2. 第二种写法：直接用父类名\n",
    "\n",
    "例子：\n",
    "\n",
    "```python\n",
    "class Son(Father):\n",
    "    def __init__(self):\n",
    "        self.earn = \"AI\"\n",
    "\n",
    "    def make_father_earn(self):\n",
    "        Father.__init__(self)   # 手动调用父类构造函数\n",
    "        Father.make_earn(self)  # 手动调用父类方法\n",
    "```\n",
    "\n",
    "这里是硬编码：\n",
    "\n",
    "* 你直接告诉 Python：“去找 Father 里的 `__init__` 和 `make_earn`”。\n",
    "* 它不会看 MRO，不会考虑其他父类，完全是你人工指定的。\n",
    "\n",
    "👉 好处：\n",
    "\n",
    "* 明确、直观。你要的就是 `Father` 的逻辑，不管继承链有多复杂。\n",
    "* 在单继承时，效果和 `super()` 一样。\n",
    "\n",
    "👉 缺点：\n",
    "\n",
    "* 如果有 **多继承**，比如：\n",
    "\n",
    "  ```python\n",
    "  class Son(Father, Mother):\n",
    "      ...\n",
    "  ```\n",
    "\n",
    "  你写 `Father.__init__(self)`，那 `Mother.__init__` 就完全没机会执行，容易漏掉。\n",
    "* 而且如果继承链将来改了（比如换父类顺序），这里的代码也得手动改，维护性差。\n",
    "\n",
    "---\n",
    "\n",
    "### ⚡ 3. 对比总结\n",
    "\n",
    "| 特点          | `super()`        | `父类名.方法(self)`           |\n",
    "| ----------- | ---------------- | ------------------------ |\n",
    "| 适用范围        | 多继承 / 单继承都适用     | 更适合单继承                   |\n",
    "| 调用规则        | 遵循 MRO，自动找“下一个类” | 只调用指定父类                  |\n",
    "| 是否可能漏掉父类初始化 | 不会（只要链写好）        | 容易漏（忘写另一个父类的 `__init__`） |\n",
    "| 可维护性        | 高，继承关系变动时不用改     | 低，继承结构一变要手动调整            |\n",
    "| 可读性         | 稍抽象，要懂 MRO       | 直观，立刻知道调用谁               |\n",
    "\n",
    "---\n",
    "\n",
    "### 🏫 4. 举个多继承例子（差异直观）\n",
    "\n",
    "```python\n",
    "class A:\n",
    "    def __init__(self):\n",
    "        print(\"A init\")\n",
    "\n",
    "class B(A):\n",
    "    def __init__(self):\n",
    "        super().__init__()\n",
    "        print(\"B init\")\n",
    "\n",
    "class C(A):\n",
    "    def __init__(self):\n",
    "        super().__init__()\n",
    "        print(\"C init\")\n",
    "\n",
    "class D(B, C):\n",
    "    def __init__(self):\n",
    "        super().__init__()\n",
    "        print(\"D init\")\n",
    "\n",
    "print(D.__mro__)\n",
    "d = D()\n",
    "```\n",
    "\n",
    "### MRO 顺序：\n",
    "\n",
    "```\n",
    "D → B → C → A → object\n",
    "```\n",
    "\n",
    "### 输出：\n",
    "\n",
    "```\n",
    "A init\n",
    "C init\n",
    "B init\n",
    "D init\n",
    "```\n",
    "\n",
    "👉 每个类的 `__init__` 都被执行了一次，没有漏掉，也没有重复。\n",
    "\n",
    "---\n",
    "\n",
    "如果你用 **父类名直接调用**，比如在 `B.__init__` 里写 `A.__init__(self)`，在 `C.__init__` 里也写 `A.__init__(self)`，那么 `A.__init__` 会被执行两次，重复了！\n",
    "\n",
    "---\n",
    "\n",
    "### 最终结论\n",
    "\n",
    "* **单继承**：\n",
    "  `super()` 和 `Father.__init__(self)` 基本一样。\n",
    "* **多继承**：\n",
    "  推荐用 `super()`，因为它遵循 MRO，能自动协调多个父类的执行，避免遗漏或重复。\n",
    "* **如果你只想强制调用某个特定父类**（无视 MRO），那就用 `Father.__init__(self)`。\n",
    "\n"
   ]
  },
  {
   "cell_type": "markdown",
   "id": "ef42fdcb",
   "metadata": {},
   "source": [
    "但不建议放在多继承，因为MRO的链式，class Son(Father, Mother)，谁放在前，就先调用谁的方法，容易搞不清"
   ]
  },
  {
   "cell_type": "code",
   "execution_count": 86,
   "id": "5facdad6",
   "metadata": {},
   "outputs": [
    {
     "name": "stdout",
     "output_type": "stream",
     "text": [
      "1\n",
      "[<class '__main__.C'>, <class '__main__.B'>, <class '__main__.A'>, <class 'object'>]\n"
     ]
    }
   ],
   "source": [
    "class A(object):\n",
    "    def __init__(self):\n",
    "        self.a = 1\n",
    "\n",
    "class B(A):\n",
    "    def __init__(self):\n",
    "        super().__init__()\n",
    "        self.b = 2\n",
    "\n",
    "class C(B):\n",
    "    def __init__(self):\n",
    "        super().__init__()\n",
    "        self.c = 3       \n",
    "\n",
    "\n",
    "num = C()\n",
    "\n",
    "print(num.a)\n",
    "print(C.mro())"
   ]
  },
  {
   "cell_type": "markdown",
   "id": "55a808d5",
   "metadata": {},
   "source": [
    "# 多态\n",
    "\n",
    "同一个函数，在不同的场景下有不同的状态"
   ]
  },
  {
   "cell_type": "code",
   "execution_count": null,
   "id": "8ad657d1",
   "metadata": {},
   "outputs": [
    {
     "name": "stdout",
     "output_type": "stream",
     "text": [
      "嗯嗯\n",
      "狗叫\n",
      "猫叫\n"
     ]
    }
   ],
   "source": [
    "class Animal(object):\n",
    "    def speak(self):\n",
    "        print(\"嗯嗯\")\n",
    "\n",
    "class Dog(Animal):\n",
    "    def speak(self):\n",
    "        print(\"狗叫\")\n",
    "\n",
    "class Cat(Animal):\n",
    "    def speak(self):\n",
    "        print(\"猫叫\")\n",
    "\n",
    "\n",
    "def make_noise(animal:Animal):\n",
    "    animal.speak()\n",
    "\n",
    "# 实例化\n",
    "animal = Animal()\n",
    "dog = Dog()\n",
    "cat = Cat()\n",
    "\n",
    "make_noise(animal)\n",
    "make_noise(dog)\n",
    "make_noise(cat)\n",
    "\n"
   ]
  },
  {
   "cell_type": "markdown",
   "id": "d63c5023",
   "metadata": {},
   "source": [
    "### 多态成立的条件"
   ]
  },
  {
   "cell_type": "markdown",
   "id": "f72d3237",
   "metadata": {},
   "source": [
    "实现多态的三个条件\n",
    "1. 有继承(定义父类、定义子类，子类继承父类)\n",
    "2. 函数重写（子类重写父类的函数）\n",
    "  - 函数重写：子类把父类的函数又重新写了一遍父类和子类之间\n",
    "  - 函数重载Y在同一个类里面D函数的名字一样，但是参数或者返回值不一样\n",
    "3. 父类引用指向子类对象（子类对象传给父类对象调用者）\n",
    "\n",
    "4. 只要父类对象做函数参数，就容易发生多态"
   ]
  },
  {
   "cell_type": "markdown",
   "id": "b79ad814",
   "metadata": {},
   "source": [
    "例子："
   ]
  },
  {
   "cell_type": "code",
   "execution_count": null,
   "id": "16280d56",
   "metadata": {},
   "outputs": [
    {
     "name": "stdout",
     "output_type": "stream",
     "text": [
      "Enemy胜利\n"
     ]
    }
   ],
   "source": [
    "class HeroFighter(object):\n",
    "    def power(self):\n",
    "        return 70\n",
    "\n",
    "\"\"\"\n",
    "如果父类有 __init__ 并且做了重要初始化，子类要写 super().__init__() 保证父类的逻辑执行。\n",
    "\n",
    "如果父类没写 __init__，那就是空的初始化，子类写不写 super().__init__() 都无所谓。\n",
    "\"\"\"\n",
    "class AdvFighter(HeroFighter):\n",
    "    def power(self):\n",
    "        return 90\n",
    "    \n",
    "    \n",
    "class EnemyFighter(object):\n",
    "    def power(self):\n",
    "        return 80\n",
    "\n",
    "\n",
    "\"\"\"\n",
    "类型注解不仅能写类，还能写：\n",
    "\n",
    "基础类型：x: int、name: str\n",
    "\n",
    "容器类型：scores: list[int]、data: dict[str, float]\n",
    "\n",
    "可选类型：x: int | None\n",
    "\"\"\"\n",
    "\n",
    "def fight(hero:HeroFighter,enemy:EnemyFighter):\n",
    "    if hero.power() > enemy.power():\n",
    "        print(\"hero胜利\")\n",
    "    else:\n",
    "        print(\"Enemy胜利\")\n",
    "\n",
    "\n",
    "# 实例化对象\n",
    "h1 = HeroFighter()\n",
    "h2 = AdvFighter()\n",
    "e = EnemyFighter()\n",
    "\n",
    "fight(h1,e)\n"
   ]
  }
 ],
 "metadata": {
  "kernelspec": {
   "display_name": "Python 3",
   "language": "python",
   "name": "python3"
  },
  "language_info": {
   "codemirror_mode": {
    "name": "ipython",
    "version": 3
   },
   "file_extension": ".py",
   "mimetype": "text/x-python",
   "name": "python",
   "nbconvert_exporter": "python",
   "pygments_lexer": "ipython3",
   "version": "3.12.7"
  }
 },
 "nbformat": 4,
 "nbformat_minor": 5
}
