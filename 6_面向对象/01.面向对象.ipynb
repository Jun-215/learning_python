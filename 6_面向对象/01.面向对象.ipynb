{
 "cells": [
  {
   "cell_type": "markdown",
   "id": "749363ac",
   "metadata": {},
   "source": [
    "#   __init__（） 方法\n",
    "上面的示例是最简单形式的类和对象，并且是 在现实生活中的应用中并没有真正用处。\n",
    "\n",
    "要理解类的含义，我们必须了解内置方法。__init__()\n",
    "\n",
    "所有类都有一个名为 的方法，该方法总是在 课程正在启动中。__init__()\n",
    "\n",
    "使用该方法将值分配给对象属性或其他 当对象 正在创建：__init__()"
   ]
  },
  {
   "cell_type": "code",
   "execution_count": 1,
   "id": "6e505e37",
   "metadata": {},
   "outputs": [
    {
     "data": {
      "text/plain": [
       "36"
      ]
     },
     "execution_count": 1,
     "metadata": {},
     "output_type": "execute_result"
    }
   ],
   "source": [
    "class Person:\n",
    "    def __init__(self,name,age):\n",
    "        self.name = name\n",
    "        self.age = age\n",
    "\n",
    "\n",
    "p1 = Person(\"nick\",36)\n",
    "p1.name\n",
    "p1.age"
   ]
  },
  {
   "cell_type": "markdown",
   "id": "7d30bae3",
   "metadata": {},
   "source": [
    "# 创建方法\n",
    "您可以在对象中创建自己的方法。对象中的方法是函数 属于对象。\n",
    "\n",
    "让我们在 Person 类中创建一个方法："
   ]
  },
  {
   "cell_type": "code",
   "execution_count": 2,
   "id": "9e186118",
   "metadata": {},
   "outputs": [
    {
     "name": "stdout",
     "output_type": "stream",
     "text": [
      "Hi\n"
     ]
    }
   ],
   "source": [
    "class Person:\n",
    "    def __init__(self,name,age):\n",
    "        self.name = name\n",
    "        self.age = age\n",
    "        \n",
    "    def myfun(sefl):\n",
    "        print(\"Hi\")\n",
    "\n",
    "\n",
    "p1 = Person(\"nick\",13)\n",
    "p1.myfun()"
   ]
  },
  {
   "cell_type": "markdown",
   "id": "8af4934f",
   "metadata": {},
   "source": [
    "# self 参数\n",
    "该参数是对 当前实例，用于访问属于该类的变量。self\n",
    "\n",
    "它不必命名，您可以 随心所欲地称呼它，但它必须是任何函数的第一个参数：self"
   ]
  },
  {
   "cell_type": "code",
   "execution_count": 3,
   "id": "fee1f9c4",
   "metadata": {},
   "outputs": [
    {
     "name": "stdout",
     "output_type": "stream",
     "text": [
      "Hello my name is John\n"
     ]
    }
   ],
   "source": [
    "class Person:\n",
    "  def __init__(mysillyobject, name, age):\n",
    "    mysillyobject.name = name\n",
    "    mysillyobject.age = age\n",
    "\n",
    "  def myfunc(abc):\n",
    "    print(\"Hello my name is \" + abc.name)\n",
    "\n",
    "p1 = Person(\"John\", 36)\n",
    "p1.myfunc()"
   ]
  },
  {
   "cell_type": "markdown",
   "id": "009cffe2",
   "metadata": {},
   "source": [
    "修改对象属性\n",
    "您可以像这样修改对象的属性："
   ]
  },
  {
   "cell_type": "code",
   "execution_count": 4,
   "id": "82ada92c",
   "metadata": {},
   "outputs": [],
   "source": [
    "p1.age = 66"
   ]
  },
  {
   "cell_type": "markdown",
   "id": "26795929",
   "metadata": {},
   "source": [
    "# 删除对象属性\n",
    "您可以使用关键字删除对象上的属性： del"
   ]
  },
  {
   "cell_type": "code",
   "execution_count": 5,
   "id": "fa2aea87",
   "metadata": {},
   "outputs": [],
   "source": [
    "del p1.age"
   ]
  },
  {
   "cell_type": "markdown",
   "id": "91d01d5d",
   "metadata": {},
   "source": [
    "# 删除对象\n",
    "您可以使用关键字删除对象：del"
   ]
  },
  {
   "cell_type": "code",
   "execution_count": 6,
   "id": "63ccb559",
   "metadata": {},
   "outputs": [],
   "source": [
    "del p1"
   ]
  },
  {
   "cell_type": "markdown",
   "id": "955ea304",
   "metadata": {},
   "source": [
    "# pass 语句\n",
    "class定义不能为空，但如果 由于某种原因，您有一个没有内容的定义，请放入语句中以避免出现错误。classpass"
   ]
  },
  {
   "cell_type": "code",
   "execution_count": 7,
   "id": "e5858d3b",
   "metadata": {},
   "outputs": [],
   "source": [
    "class Person:\n",
    "    pass"
   ]
  },
  {
   "cell_type": "markdown",
   "id": "7203964e",
   "metadata": {},
   "source": [
    "# 继承\n",
    "继承允许我们定义一个类，该类继承了另一个类的所有方法和属性。\n",
    "\n",
    "父类是继承自的类，也称为 基类。\n",
    "\n",
    "子类是继承自另一个类的类， 也称为派生类。"
   ]
  },
  {
   "cell_type": "markdown",
   "id": "67c47c5b",
   "metadata": {},
   "source": [
    "## 创建父类\n",
    "任何类都可以是父类，因此语法与创建任何 其他类别："
   ]
  },
  {
   "cell_type": "markdown",
   "id": "066dd494",
   "metadata": {},
   "source": [
    "创建一个名为 、 和 properties 的类， 和一个方法：Person firstname lastnamep rintname"
   ]
  },
  {
   "cell_type": "code",
   "execution_count": 8,
   "id": "380ac719",
   "metadata": {},
   "outputs": [
    {
     "name": "stdout",
     "output_type": "stream",
     "text": [
      "Nick Chen\n"
     ]
    }
   ],
   "source": [
    "class Person:\n",
    "    def __init__(self,fname,lname):\n",
    "        self.firstname = fname\n",
    "        self.lastname = lname\n",
    "    \n",
    "    def printname(self):\n",
    "        print(self.firstname,self.lastname)\n",
    "\n",
    "x = Person(\"Nick\",\"Chen\")\n",
    "\n",
    "x.printname()"
   ]
  },
  {
   "cell_type": "markdown",
   "id": "d314a8a4",
   "metadata": {},
   "source": [
    "## 创建子类\n",
    "要创建从另一个类继承功能的类，请在创建子类时将父类作为参数发送 类："
   ]
  },
  {
   "cell_type": "code",
   "execution_count": 9,
   "id": "aeb8cacf",
   "metadata": {},
   "outputs": [],
   "source": [
    "class Student(Person):\n",
    "    pass"
   ]
  },
  {
   "cell_type": "code",
   "execution_count": 10,
   "id": "bc77866e",
   "metadata": {},
   "outputs": [
    {
     "name": "stdout",
     "output_type": "stream",
     "text": [
      "Mike Olsen\n"
     ]
    }
   ],
   "source": [
    "x = Student(\"Mike\",\"Olsen\")\n",
    "x.printname()"
   ]
  }
 ],
 "metadata": {
  "kernelspec": {
   "display_name": "Python 3",
   "language": "python",
   "name": "python3"
  },
  "language_info": {
   "codemirror_mode": {
    "name": "ipython",
    "version": 3
   },
   "file_extension": ".py",
   "mimetype": "text/x-python",
   "name": "python",
   "nbconvert_exporter": "python",
   "pygments_lexer": "ipython3",
   "version": "3.12.7"
  }
 },
 "nbformat": 4,
 "nbformat_minor": 5
}
