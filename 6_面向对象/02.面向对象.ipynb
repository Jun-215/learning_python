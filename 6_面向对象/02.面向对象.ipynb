{
 "cells": [
  {
   "cell_type": "markdown",
   "id": "5d59762b",
   "metadata": {},
   "source": [
    "# 类属性（变量）\n",
    "类属性是属于整个类而不是类的特定实例的变量。可以将它们视为该类所有对象共享的特性。"
   ]
  },
  {
   "cell_type": "code",
   "execution_count": null,
   "id": "c043db50",
   "metadata": {},
   "outputs": [
    {
     "name": "stdout",
     "output_type": "stream",
     "text": [
      "Canis familiaris\n",
      "Canis familiaris\n",
      "Canis familiaris\n"
     ]
    }
   ],
   "source": [
    "# species 是一个类属性。它直接定义在类内部，但不在任何方法内部。所有的 Dog 对象都共享这个属性。\n",
    "class Dog:\n",
    "    species = \"Canis familiaris\"\n",
    "\n",
    "    def __init__(self,name,age):\n",
    "        self.name = name\n",
    "        self.age = age\n",
    "\n",
    "\n",
    "fluffy = Dog(\"Fluffy\",3)\n",
    "buddy = Dog(\"Buddy\",5)\n",
    "\n",
    "print(Dog.species)\n",
    "print(buddy.species)\n",
    "print(fluffy.species)\n",
    "\n",
    "        "
   ]
  },
  {
   "cell_type": "markdown",
   "id": "2fcf641c",
   "metadata": {},
   "source": [
    "您可以通过以下两种方式访问类属性：\n",
    "\n",
    "1.通过类本身：Dog.species\n",
    "\n",
    "2.通过类的任何实例：fluffy.species 或 buddy.species"
   ]
  },
  {
   "cell_type": "markdown",
   "id": "e4318525",
   "metadata": {},
   "source": [
    "# 修改类属性\n",
    "\n",
    "类属性可以进行修改，但要注意！当你修改一个类属性时，它会对类的所有实例产生影响。"
   ]
  },
  {
   "cell_type": "code",
   "execution_count": 6,
   "id": "5ad543c3",
   "metadata": {},
   "outputs": [
    {
     "name": "stdout",
     "output_type": "stream",
     "text": [
      "2\n",
      "2\n"
     ]
    }
   ],
   "source": [
    "class Cat:\n",
    "    species = \"Felis catus\"\n",
    "    count = 0\n",
    "\n",
    "    def __init__(self,name):\n",
    "        self.name = name\n",
    "        Cat.count += 1\n",
    "\n",
    "whiskers = Cat(\"whisers\")\n",
    "mittents = Cat(\"Mittens\")\n",
    "\n",
    "print(whiskers.count)\n",
    "print(mittents.count)"
   ]
  },
  {
   "cell_type": "markdown",
   "id": "f961adae",
   "metadata": {},
   "source": [
    "每当我们创建一个新的 Cat 对象时，我们都会递增 Cat.count。"
   ]
  },
  {
   "cell_type": "markdown",
   "id": "59f52902",
   "metadata": {},
   "source": [
    "# Python - 类方法"
   ]
  },
  {
   "cell_type": "markdown",
   "id": "ceb43049",
   "metadata": {},
   "source": [
    "## 在Python中创建类方法\n",
    "在Python中创建类方法主要有两种方式。让我们探索一下这两种方式！\n",
    "\n",
    "## 使用classmethod()函数\n",
    "创建类方法的第一个方法是使用classmethod()函数。以下是它的样子："
   ]
  },
  {
   "cell_type": "code",
   "execution_count": null,
   "id": "7357b6aa",
   "metadata": {},
   "outputs": [
    {
     "name": "stdout",
     "output_type": "stream",
     "text": [
      "类方法，可以访问我属于这个类\n",
      "类方法，可以访问我属于这个类\n"
     ]
    }
   ],
   "source": [
    "class MyClass:\n",
    "    class_att = \"我属于这个类\"\n",
    "    \n",
    "    def regular_method(self):\n",
    "        return \"普通方法\"\n",
    "    \n",
    "    @classmethod\n",
    "    def class_method(cls):\n",
    "        return f\"类方法，可以访问{cls.class_att}\"\n",
    "    \n",
    "# 创建实例\n",
    "my_object = MyClass()\n",
    "\n",
    "print(MyClass.class_method())\n",
    "print(my_object.class_method())"
   ]
  },
  {
   "cell_type": "markdown",
   "id": "568a2749",
   "metadata": {},
   "source": [
    "## 使用@classmethod装饰器\n",
    "第二种方式，更常见且在我看来更美观，是使用@classmethod装饰器。这就像在我们的方法上戴上一顶特别的帽子，告诉Python：“嘿，这是一个类方法！”"
   ]
  },
  {
   "cell_type": "code",
   "execution_count": 14,
   "id": "7d61f46d",
   "metadata": {},
   "outputs": [
    {
     "name": "stdout",
     "output_type": "stream",
     "text": [
      "Papa John\n"
     ]
    }
   ],
   "source": [
    "class Pizza:\n",
    "    restaurent = \"Mama Mis\"\n",
    "\n",
    "    @classmethod\n",
    "    def change_restaurant(cls,new_restaurant):\n",
    "        cls.restaurent = new_restaurant\n",
    "\n",
    "Pizza.change_restaurant(\"Papa John\")\n",
    "\n",
    "print(Pizza.restaurent)\n"
   ]
  },
  {
   "cell_type": "code",
   "execution_count": 15,
   "id": "b384cedc",
   "metadata": {},
   "outputs": [
    {
     "name": "stdout",
     "output_type": "stream",
     "text": [
      "我是普通方法，第一个参数是实例对象： <__main__.MyClass object at 0x0000012819267770>\n",
      "我是类方法，第一个参数是类对象： <class '__main__.MyClass'>\n",
      "我是类方法，第一个参数是类对象： <class '__main__.MyClass'>\n"
     ]
    }
   ],
   "source": [
    "class MyClass:\n",
    "    def normal_method(self):\n",
    "        print(\"我是普通方法，第一个参数是实例对象：\", self)\n",
    "\n",
    "    @classmethod\n",
    "    def class_method(cls):\n",
    "        print(\"我是类方法，第一个参数是类对象：\", cls)\n",
    "\n",
    "obj = MyClass()\n",
    "\n",
    "obj.normal_method()     # 第一个参数是 obj\n",
    "MyClass.class_method()  # 第一个参数是 MyClass\n",
    "obj.class_method()      # 虽然用实例调用，但第一个参数还是 MyClass\n"
   ]
  }
 ],
 "metadata": {
  "kernelspec": {
   "display_name": "Python 3",
   "language": "python",
   "name": "python3"
  },
  "language_info": {
   "codemirror_mode": {
    "name": "ipython",
    "version": 3
   },
   "file_extension": ".py",
   "mimetype": "text/x-python",
   "name": "python",
   "nbconvert_exporter": "python",
   "pygments_lexer": "ipython3",
   "version": "3.12.7"
  }
 },
 "nbformat": 4,
 "nbformat_minor": 5
}
