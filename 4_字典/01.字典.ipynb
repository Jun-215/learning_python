{
 "cells": [
  {
   "cell_type": "markdown",
   "id": "dbf4c605",
   "metadata": {},
   "source": [
    "# 字典\n",
    "字典用于将数据值存储在键：值对中。\n",
    "\n",
    "字典是一个有序*、可更改且不更改的集合 允许重复。"
   ]
  },
  {
   "cell_type": "markdown",
   "id": "b06863ff",
   "metadata": {},
   "source": [
    "# 词典项目\n",
    "词典项目是有序的、可更改的，并且不允许重复。\n",
    "\n",
    "字典项以键：值对形式呈现，可以通过以下方式引用 使用密钥名称。"
   ]
  },
  {
   "cell_type": "code",
   "execution_count": 1,
   "id": "f30212ba",
   "metadata": {},
   "outputs": [
    {
     "data": {
      "text/plain": [
       "{'brand': 'Ford', 'model': 'mustang', 'year': 1964}"
      ]
     },
     "execution_count": 1,
     "metadata": {},
     "output_type": "execute_result"
    }
   ],
   "source": [
    "thisdict = {\n",
    "    \"brand\":\"Ford\",\n",
    "    \"model\":\"mustang\",\n",
    "    \"year\":1964\n",
    "}\n",
    "\n",
    "thisdict"
   ]
  },
  {
   "cell_type": "code",
   "execution_count": 3,
   "id": "d9fce54a",
   "metadata": {},
   "outputs": [
    {
     "data": {
      "text/plain": [
       "'Nick'"
      ]
     },
     "execution_count": 3,
     "metadata": {},
     "output_type": "execute_result"
    }
   ],
   "source": [
    "thisdict = {\n",
    "    \"name\":\"Nick\",\n",
    "    \"age\":18,\n",
    "    \"gender\":\"man\"\n",
    "}\n",
    "\n",
    "thisdict[\"name\"]"
   ]
  }
 ],
 "metadata": {
  "kernelspec": {
   "display_name": "Python 3",
   "language": "python",
   "name": "python3"
  },
  "language_info": {
   "codemirror_mode": {
    "name": "ipython",
    "version": 3
   },
   "file_extension": ".py",
   "mimetype": "text/x-python",
   "name": "python",
   "nbconvert_exporter": "python",
   "pygments_lexer": "ipython3",
   "version": "3.12.7"
  }
 },
 "nbformat": 4,
 "nbformat_minor": 5
}
