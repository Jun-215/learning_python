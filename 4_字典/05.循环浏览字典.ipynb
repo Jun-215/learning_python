{
 "cells": [
  {
   "cell_type": "markdown",
   "id": "596a5512",
   "metadata": {},
   "source": [
    "# 循环浏览字典\n",
    "您可以使用循环循环遍历字典。for\n",
    "\n",
    "循环字典时，返回值是 字典，但也有返回值的方法。"
   ]
  },
  {
   "cell_type": "markdown",
   "id": "f5b790ed",
   "metadata": {},
   "source": [
    "1.逐个打印字典中的所有键名："
   ]
  },
  {
   "cell_type": "code",
   "execution_count": 1,
   "id": "2bf23e36",
   "metadata": {},
   "outputs": [
    {
     "name": "stdout",
     "output_type": "stream",
     "text": [
      "brand\n",
      "model\n",
      "year\n"
     ]
    }
   ],
   "source": [
    "thisdict = {\n",
    "  \"brand\": \"Ford\",\n",
    "  \"model\": \"Mustang\",\n",
    "  \"year\": 1964\n",
    "}\n",
    "\n",
    "for x in thisdict:\n",
    "    print(x)"
   ]
  },
  {
   "cell_type": "markdown",
   "id": "15bd9dc8",
   "metadata": {},
   "source": [
    "可以使用该方法来 返回字典的键：keys()"
   ]
  },
  {
   "cell_type": "code",
   "execution_count": 7,
   "id": "f4b70643",
   "metadata": {},
   "outputs": [
    {
     "name": "stdout",
     "output_type": "stream",
     "text": [
      "brand\n",
      "model\n",
      "year\n"
     ]
    }
   ],
   "source": [
    "for x in thisdict.keys():\n",
    "    print(x)"
   ]
  },
  {
   "cell_type": "markdown",
   "id": "dee2a389",
   "metadata": {},
   "source": [
    "2.逐个打印字典中的所有值："
   ]
  },
  {
   "cell_type": "code",
   "execution_count": 3,
   "id": "2ca96ec8",
   "metadata": {},
   "outputs": [
    {
     "name": "stdout",
     "output_type": "stream",
     "text": [
      "Ford\n",
      "Mustang\n",
      "1964\n"
     ]
    }
   ],
   "source": [
    "for x in thisdict:\n",
    "    print(thisdict[x])"
   ]
  },
  {
   "cell_type": "markdown",
   "id": "dea9a928",
   "metadata": {},
   "source": [
    "使用该方法来 字典的返回值：values()"
   ]
  },
  {
   "cell_type": "code",
   "execution_count": 8,
   "id": "75efbb6f",
   "metadata": {},
   "outputs": [
    {
     "name": "stdout",
     "output_type": "stream",
     "text": [
      "Ford\n",
      "Mustang\n",
      "1964\n"
     ]
    }
   ],
   "source": [
    "for x in thisdict.values():\n",
    "    print(x)"
   ]
  },
  {
   "cell_type": "markdown",
   "id": "5ea62d85",
   "metadata": {},
   "source": [
    "3.使用以下方法循环遍历键和值：items()"
   ]
  },
  {
   "cell_type": "code",
   "execution_count": 11,
   "id": "3edabe1b",
   "metadata": {},
   "outputs": [
    {
     "data": {
      "text/plain": [
       "dict_items([('brand', 'Ford'), ('model', 'Mustang'), ('year', 1964)])"
      ]
     },
     "execution_count": 11,
     "metadata": {},
     "output_type": "execute_result"
    }
   ],
   "source": [
    "thisdict.items()"
   ]
  },
  {
   "cell_type": "code",
   "execution_count": 10,
   "id": "636dc03e",
   "metadata": {},
   "outputs": [
    {
     "name": "stdout",
     "output_type": "stream",
     "text": [
      "brand Ford\n",
      "model Mustang\n",
      "year 1964\n"
     ]
    }
   ],
   "source": [
    "for x,y in thisdict.items():\n",
    "    print(x,y)"
   ]
  }
 ],
 "metadata": {
  "kernelspec": {
   "display_name": "Python 3",
   "language": "python",
   "name": "python3"
  },
  "language_info": {
   "codemirror_mode": {
    "name": "ipython",
    "version": 3
   },
   "file_extension": ".py",
   "mimetype": "text/x-python",
   "name": "python",
   "nbconvert_exporter": "python",
   "pygments_lexer": "ipython3",
   "version": "3.12.7"
  }
 },
 "nbformat": 4,
 "nbformat_minor": 5
}
