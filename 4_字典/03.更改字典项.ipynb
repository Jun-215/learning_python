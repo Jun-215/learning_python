{
 "cells": [
  {
   "cell_type": "markdown",
   "id": "ef6d1b49",
   "metadata": {},
   "source": [
    "# 更改值\n",
    "您可以通过引用特定项的键名称来更改其值："
   ]
  },
  {
   "cell_type": "code",
   "execution_count": 1,
   "id": "66e53e7f",
   "metadata": {},
   "outputs": [],
   "source": [
    "thisdict = {\n",
    "  \"brand\": \"Ford\",\n",
    "  \"model\": \"Mustang\",\n",
    "  \"year\": 1964\n",
    "}\n",
    "\n",
    "thisdict[\"year\"] = 2000"
   ]
  },
  {
   "cell_type": "markdown",
   "id": "3cde63c4",
   "metadata": {},
   "source": [
    "# update()\n",
    "该方法将使用给定的项目更新字典 论点。\n",
    "\n",
    "参数必须是字典，或具有键：值对的可迭代对象。"
   ]
  },
  {
   "cell_type": "code",
   "execution_count": 5,
   "id": "39278fbf",
   "metadata": {},
   "outputs": [
    {
     "data": {
      "text/plain": [
       "{'brand': 'pink', 'model': 'GML', 'year': 2000}"
      ]
     },
     "execution_count": 5,
     "metadata": {},
     "output_type": "execute_result"
    }
   ],
   "source": [
    "thisdict = {\n",
    "  \"brand\": \"Ford\",\n",
    "  \"model\": \"Mustang\",\n",
    "  \"year\": 1964\n",
    "}\n",
    "\n",
    "thisdict.update({\"year\":2000})\n",
    "thisdict.update({\"brand\":\"pink\"})\n",
    "thisdict.update({\"model\":\"GML\"})\n",
    "\n",
    "thisdict"
   ]
  }
 ],
 "metadata": {
  "kernelspec": {
   "display_name": "Python 3",
   "language": "python",
   "name": "python3"
  },
  "language_info": {
   "codemirror_mode": {
    "name": "ipython",
    "version": 3
   },
   "file_extension": ".py",
   "mimetype": "text/x-python",
   "name": "python",
   "nbconvert_exporter": "python",
   "pygments_lexer": "ipython3",
   "version": "3.12.7"
  }
 },
 "nbformat": 4,
 "nbformat_minor": 5
}
