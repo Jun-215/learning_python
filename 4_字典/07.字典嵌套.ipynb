{
 "cells": [
  {
   "cell_type": "markdown",
   "id": "3d041c75",
   "metadata": {},
   "source": [
    "# 嵌套词典\n",
    "字典可以包含字典，这称为嵌套 字典。"
   ]
  },
  {
   "cell_type": "code",
   "execution_count": 1,
   "id": "cf3dc6ad",
   "metadata": {},
   "outputs": [],
   "source": [
    "myclass = {\n",
    "    \"stu1\":{\n",
    "        \"name\":\"Nick\",\n",
    "        \"age\":\"man\"\n",
    "    },\n",
    "    \"stu2\":{\n",
    "        \"name\":\"EVE\",\n",
    "        \"age\":\"man\"\n",
    "    },\n",
    "     \"stu3\":{\n",
    "        \"name\":\"kim\",\n",
    "        \"age\":\"man\"\n",
    "    }\n",
    "}"
   ]
  },
  {
   "cell_type": "markdown",
   "id": "5b0c53b0",
   "metadata": {},
   "source": [
    "或者，如果要将三个字典添加到新的 字典："
   ]
  },
  {
   "cell_type": "code",
   "execution_count": 2,
   "id": "6f6f1620",
   "metadata": {},
   "outputs": [
    {
     "data": {
      "text/plain": [
       "{'stu1': {'name': 'Nick', 'age': 'man'},\n",
       " 'stu2': {'name': 'EVE', 'age': 'man'},\n",
       " 'stu3': {'name': 'kim', 'age': 'man'}}"
      ]
     },
     "execution_count": 2,
     "metadata": {},
     "output_type": "execute_result"
    }
   ],
   "source": [
    "stu1 = {\n",
    "    \"name\":\"Nick\",\n",
    "    \"age\":\"man\"\n",
    "}\n",
    "\n",
    "stu2 = {\n",
    "    \"name\":\"EVE\",\n",
    "    \"age\":\"man\"\n",
    "}\n",
    "\n",
    "stu3 = {\n",
    "    \"name\":\"kim\",\n",
    "    \"age\":\"man\"\n",
    "}\n",
    "\n",
    "myclass = {\n",
    "    \"stu1\":stu1,\n",
    "    \"stu2\":stu2,\n",
    "    \"stu3\":stu3\n",
    "\n",
    "}\n",
    "\n",
    "myclass"
   ]
  },
  {
   "cell_type": "markdown",
   "id": "95d554cb",
   "metadata": {},
   "source": [
    "# 访问嵌套词典中的项目\n",
    "要访问嵌套字典中的项目，请使用字典的名称，从 外字典："
   ]
  },
  {
   "cell_type": "code",
   "execution_count": 3,
   "id": "e60efcb9",
   "metadata": {},
   "outputs": [
    {
     "name": "stdout",
     "output_type": "stream",
     "text": [
      "EVE\n"
     ]
    }
   ],
   "source": [
    "print(myclass[\"stu2\"][\"name\"])"
   ]
  },
  {
   "cell_type": "code",
   "execution_count": 4,
   "id": "f04047fb",
   "metadata": {},
   "outputs": [
    {
     "data": {
      "text/plain": [
       "dict_items([('stu1', {'name': 'Nick', 'age': 'man'}), ('stu2', {'name': 'EVE', 'age': 'man'}), ('stu3', {'name': 'kim', 'age': 'man'})])"
      ]
     },
     "execution_count": 4,
     "metadata": {},
     "output_type": "execute_result"
    }
   ],
   "source": [
    "myclass.items()"
   ]
  },
  {
   "cell_type": "code",
   "execution_count": 5,
   "id": "5bfaf576",
   "metadata": {},
   "outputs": [
    {
     "name": "stdout",
     "output_type": "stream",
     "text": [
      "('stu1', {'name': 'Nick', 'age': 'man'})\n",
      "('stu2', {'name': 'EVE', 'age': 'man'})\n",
      "('stu3', {'name': 'kim', 'age': 'man'})\n"
     ]
    }
   ],
   "source": [
    "for x in myclass.items():\n",
    "    print(x)"
   ]
  },
  {
   "cell_type": "code",
   "execution_count": 6,
   "id": "6bfd004b",
   "metadata": {},
   "outputs": [
    {
     "name": "stdout",
     "output_type": "stream",
     "text": [
      "stu1 {'name': 'Nick', 'age': 'man'}\n",
      "stu2 {'name': 'EVE', 'age': 'man'}\n",
      "stu3 {'name': 'kim', 'age': 'man'}\n"
     ]
    }
   ],
   "source": [
    "for x,y in myclass.items():\n",
    "    print(x,y)"
   ]
  },
  {
   "cell_type": "code",
   "execution_count": null,
   "id": "deeddf61",
   "metadata": {},
   "outputs": [
    {
     "name": "stdout",
     "output_type": "stream",
     "text": [
      "学生：stu1\n",
      "{'name': 'Nick', 'age': 'man'}\n",
      "  \n",
      "name:\n",
      "Nick\n",
      " \n",
      "age:\n",
      "man\n",
      " \n",
      "学生：stu2\n",
      "{'name': 'EVE', 'age': 'man'}\n",
      "  \n",
      "name:\n",
      "EVE\n",
      " \n",
      "age:\n",
      "man\n",
      " \n",
      "学生：stu3\n",
      "{'name': 'kim', 'age': 'man'}\n",
      "  \n",
      "name:\n",
      "kim\n",
      " \n",
      "age:\n",
      "man\n",
      " \n"
     ]
    }
   ],
   "source": [
    "for x,obj in myclass.items():\n",
    "    print(f\"学生：{x}\") #stu\n",
    "    print(f\"{obj}\")    #{'name': 'Nick', 'age': 'man'}\n",
    "    print(\"  \")\n",
    "\n",
    "\n",
    "    for y in obj:\n",
    "        print(f\"{y}:\") #就是{}里的key\n",
    "        print(obj[y])  #这里是值\n",
    "        print(\" \")"
   ]
  },
  {
   "cell_type": "code",
   "execution_count": 14,
   "id": "ef44f5d1",
   "metadata": {},
   "outputs": [
    {
     "name": "stdout",
     "output_type": "stream",
     "text": [
      "学生：stu1\n",
      "     name：Nick\n",
      "     age：man\n",
      "学生：stu2\n",
      "     name：EVE\n",
      "     age：man\n",
      "学生：stu3\n",
      "     name：kim\n",
      "     age：man\n"
     ]
    }
   ],
   "source": [
    "for x,obj in myclass.items():\n",
    "    print(f\"学生：{x}\")\n",
    "\n",
    "    for y in obj:\n",
    "        print(f\"     {y}：{obj[y]}\")"
   ]
  },
  {
   "cell_type": "code",
   "execution_count": 7,
   "id": "f645cd85",
   "metadata": {},
   "outputs": [
    {
     "name": "stdout",
     "output_type": "stream",
     "text": [
      "stu1\n",
      "name: Nick\n",
      "age: man\n",
      "stu2\n",
      "name: EVE\n",
      "age: man\n",
      "stu3\n",
      "name: kim\n",
      "age: man\n"
     ]
    }
   ],
   "source": [
    "for x, obj in myclass.items():\n",
    "  print(x)\n",
    "\n",
    "  for y in obj:\n",
    "    print(y + ':', obj[y])"
   ]
  },
  {
   "cell_type": "markdown",
   "id": "98f1edff",
   "metadata": {},
   "source": [
    "# 字典的方法\n",
    "https://www.w3schools.com/python/python_dictionaries_methods.asp"
   ]
  }
 ],
 "metadata": {
  "kernelspec": {
   "display_name": "Python 3",
   "language": "python",
   "name": "python3"
  },
  "language_info": {
   "codemirror_mode": {
    "name": "ipython",
    "version": 3
   },
   "file_extension": ".py",
   "mimetype": "text/x-python",
   "name": "python",
   "nbconvert_exporter": "python",
   "pygments_lexer": "ipython3",
   "version": "3.12.7"
  }
 },
 "nbformat": 4,
 "nbformat_minor": 5
}
