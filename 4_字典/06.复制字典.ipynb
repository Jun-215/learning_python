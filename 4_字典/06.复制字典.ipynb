{
 "cells": [
  {
   "cell_type": "markdown",
   "id": "844852a6",
   "metadata": {},
   "source": [
    "# 复制词典\n",
    "您不能仅通过键入 来复制字典，因为： 将仅是对 的引用，并且在 中所做的更改也会自动在 中进行。dict2 = dict1 dict2 dict1 dict1 dict2"
   ]
  },
  {
   "cell_type": "markdown",
   "id": "5dba02e1",
   "metadata": {},
   "source": [
    "## copy()\n",
    "有多种方法可以制作副本，一种方法是使用内置的词典 方法。 copy()"
   ]
  },
  {
   "cell_type": "code",
   "execution_count": 3,
   "id": "6ff7aff6",
   "metadata": {},
   "outputs": [
    {
     "name": "stdout",
     "output_type": "stream",
     "text": [
      "brand Ford\n",
      "model Mustang\n",
      "year 1964\n"
     ]
    }
   ],
   "source": [
    "thisdict = {\n",
    "  \"brand\": \"Ford\",\n",
    "  \"model\": \"Mustang\",\n",
    "  \"year\": 1964\n",
    "}\n",
    "\n",
    "mydict = thisdict.copy()\n",
    "\n",
    "for x,y in thisdict.items():\n",
    "    print(x,y)"
   ]
  },
  {
   "cell_type": "markdown",
   "id": "ab789234",
   "metadata": {},
   "source": [
    "## dict()\n",
    "制作副本的另一种方法是使用 内置函数 .dict()"
   ]
  },
  {
   "cell_type": "code",
   "execution_count": 7,
   "id": "4f5583be",
   "metadata": {},
   "outputs": [
    {
     "name": "stdout",
     "output_type": "stream",
     "text": [
      "Ford\n",
      "Mustang\n",
      "1964\n"
     ]
    }
   ],
   "source": [
    "thisdict = {\n",
    "  \"brand\": \"Ford\",\n",
    "  \"model\": \"Mustang\",\n",
    "  \"year\": 1964\n",
    "}\n",
    "\n",
    "mydict = dict(thisdict)\n",
    "\n",
    "for x in mydict:\n",
    "    print(mydict[x])"
   ]
  }
 ],
 "metadata": {
  "kernelspec": {
   "display_name": "Python 3",
   "language": "python",
   "name": "python3"
  },
  "language_info": {
   "codemirror_mode": {
    "name": "ipython",
    "version": 3
   },
   "file_extension": ".py",
   "mimetype": "text/x-python",
   "name": "python",
   "nbconvert_exporter": "python",
   "pygments_lexer": "ipython3",
   "version": "3.12.7"
  }
 },
 "nbformat": 4,
 "nbformat_minor": 5
}
