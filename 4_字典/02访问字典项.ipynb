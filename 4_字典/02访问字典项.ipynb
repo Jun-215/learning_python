{
 "cells": [
  {
   "cell_type": "markdown",
   "id": "dd88f267",
   "metadata": {},
   "source": [
    "# 访问项目\n",
    "您可以通过引用字典的键名称来访问字典的项目，在 方括号："
   ]
  },
  {
   "cell_type": "code",
   "execution_count": 1,
   "id": "7b39d774",
   "metadata": {},
   "outputs": [],
   "source": [
    "thisdict = {\n",
    "  \"brand\": \"Ford\",\n",
    "  \"model\": \"Mustang\",\n",
    "  \"year\": 1964\n",
    "}\n",
    "x = thisdict[\"model\"]"
   ]
  },
  {
   "cell_type": "markdown",
   "id": "37647266",
   "metadata": {},
   "source": [
    "还有一种名为的方法会给你相同的结果：get()"
   ]
  },
  {
   "cell_type": "code",
   "execution_count": 3,
   "id": "ccb1901a",
   "metadata": {},
   "outputs": [
    {
     "data": {
      "text/plain": [
       "'Ford'"
      ]
     },
     "execution_count": 3,
     "metadata": {},
     "output_type": "execute_result"
    }
   ],
   "source": [
    "x = thisdict.get(\"brand\")\n",
    "x"
   ]
  },
  {
   "cell_type": "markdown",
   "id": "c57313de",
   "metadata": {},
   "source": [
    "# 获取key\n",
    "该方法将返回字典中所有键的列表。keys()"
   ]
  },
  {
   "cell_type": "code",
   "execution_count": 5,
   "id": "b8553004",
   "metadata": {},
   "outputs": [
    {
     "data": {
      "text/plain": [
       "dict_keys(['brand', 'model', 'year'])"
      ]
     },
     "execution_count": 5,
     "metadata": {},
     "output_type": "execute_result"
    }
   ],
   "source": [
    "x = thisdict.keys()\n",
    "x"
   ]
  },
  {
   "cell_type": "markdown",
   "id": "204351cf",
   "metadata": {},
   "source": [
    "将新项添加到原始字典，并查看键列表是否获得 还更新了："
   ]
  },
  {
   "cell_type": "code",
   "execution_count": 7,
   "id": "42369a51",
   "metadata": {},
   "outputs": [
    {
     "name": "stdout",
     "output_type": "stream",
     "text": [
      "dict_keys(['brand', 'model', 'year'])\n",
      "dict_keys(['brand', 'model', 'year', 'color'])\n"
     ]
    }
   ],
   "source": [
    "car = {\n",
    "\"brand\": \"Ford\",\n",
    "\"model\": \"Mustang\",\n",
    "\"year\": 1964\n",
    "}\n",
    "\n",
    "x = car.keys()\n",
    "\n",
    "print(x)\n",
    "\n",
    "car[\"color\"] = \"red\"\n",
    "\n",
    "print(x)"
   ]
  },
  {
   "cell_type": "markdown",
   "id": "bf466af1",
   "metadata": {},
   "source": [
    "# 获取值\n",
    "该方法将返回字典中所有值的列表。values()"
   ]
  },
  {
   "cell_type": "code",
   "execution_count": 9,
   "id": "e795aca8",
   "metadata": {},
   "outputs": [
    {
     "data": {
      "text/plain": [
       "dict_values(['Ford', 'Mustang', 1964])"
      ]
     },
     "execution_count": 9,
     "metadata": {},
     "output_type": "execute_result"
    }
   ],
   "source": [
    "x = thisdict.values()\n",
    "x"
   ]
  },
  {
   "cell_type": "markdown",
   "id": "2d792adc",
   "metadata": {},
   "source": [
    "在原始字典中进行更改，并查看值列表得到 还更新了："
   ]
  },
  {
   "cell_type": "code",
   "execution_count": 13,
   "id": "9b9a3cd9",
   "metadata": {},
   "outputs": [
    {
     "name": "stdout",
     "output_type": "stream",
     "text": [
      "dict_values(['Ford', 'Mustang', 1964])\n",
      "dict_values(['Ford', 'Mustang', 9999])\n"
     ]
    }
   ],
   "source": [
    "car = {\n",
    "\"brand\": \"Ford\",\n",
    "\"model\": \"Mustang\",\n",
    "\"year\": 1964\n",
    "}\n",
    "\n",
    "x = car.values()\n",
    "print(x)\n",
    "\n",
    "car[\"year\"] = 9999\n",
    "print(x)"
   ]
  },
  {
   "cell_type": "markdown",
   "id": "4f84f818",
   "metadata": {},
   "source": [
    "# itme()\n",
    "该方法将返回字典中的每个项目，作为列表中的元组。items()"
   ]
  },
  {
   "cell_type": "code",
   "execution_count": 19,
   "id": "a26cdef7",
   "metadata": {},
   "outputs": [
    {
     "name": "stdout",
     "output_type": "stream",
     "text": [
      "dict_items([('brand', 'Ford'), ('model', 'Mustang'), ('year', 9999)])\n"
     ]
    }
   ],
   "source": [
    "x = car.items()\n",
    "print(x)\n"
   ]
  },
  {
   "cell_type": "markdown",
   "id": "a398fa4c",
   "metadata": {},
   "source": [
    "在原始词典中进行更改，并查看项目列表是否获得 还更新了："
   ]
  },
  {
   "cell_type": "code",
   "execution_count": 20,
   "id": "08cb6a17",
   "metadata": {},
   "outputs": [
    {
     "name": "stdout",
     "output_type": "stream",
     "text": [
      "dict_items([('brand', 'Ford'), ('model', 'Mustang'), ('year', 8888)])\n"
     ]
    }
   ],
   "source": [
    "car = {\n",
    "\"brand\": \"Ford\",\n",
    "\"model\": \"Mustang\",\n",
    "\"year\": 1964\n",
    "}\n",
    "\n",
    "x = car.items()\n",
    "\n",
    "car[\"year\"] = 8888\n",
    "\n",
    "print(x)"
   ]
  },
  {
   "cell_type": "markdown",
   "id": "4a6e4079",
   "metadata": {},
   "source": [
    "# 检查key是否存在\n",
    "要确定字典中是否存在指定的键，请使用关键字：in"
   ]
  },
  {
   "cell_type": "code",
   "execution_count": 21,
   "id": "ec954f97",
   "metadata": {},
   "outputs": [
    {
     "name": "stdout",
     "output_type": "stream",
     "text": [
      "yes\n"
     ]
    }
   ],
   "source": [
    "if \"model\" in car:\n",
    "    print(\"yes\")"
   ]
  }
 ],
 "metadata": {
  "kernelspec": {
   "display_name": "Python 3",
   "language": "python",
   "name": "python3"
  },
  "language_info": {
   "codemirror_mode": {
    "name": "ipython",
    "version": 3
   },
   "file_extension": ".py",
   "mimetype": "text/x-python",
   "name": "python",
   "nbconvert_exporter": "python",
   "pygments_lexer": "ipython3",
   "version": "3.12.7"
  }
 },
 "nbformat": 4,
 "nbformat_minor": 5
}
