{
 "cells": [
  {
   "cell_type": "markdown",
   "id": "b5c9c463",
   "metadata": {},
   "source": [
    "# set 内置方法：\n",
    " https://www.w3schools.com/python/python_sets_methods.asp"
   ]
  },
  {
   "cell_type": "markdown",
   "id": "72a0bc49",
   "metadata": {},
   "source": [
    "# 连接集\n",
    "在 Python 中连接两个或多个集合有多种方法。\n",
    "\n",
    "和方法连接两个集合中的所有项目。union()  update()\n",
    "\n",
    "该方法仅保留重复项。intersection()\n",
    "\n",
    "该方法保留项目 来自不在其他集合中的第一组。difference()\n",
    "\n",
    "该方法保留所有 项目除外重复项。symmetric_difference()"
   ]
  },
  {
   "cell_type": "markdown",
   "id": "935e140e",
   "metadata": {},
   "source": [
    "## union() \n",
    "该方法返回一个新集合，其中包含两个集合中的所有项目。"
   ]
  },
  {
   "cell_type": "code",
   "execution_count": null,
   "id": "6441d9e7",
   "metadata": {},
   "outputs": [
    {
     "data": {
      "text/plain": [
       "{1, 2, 3, 'a', 'b', 'c'}"
      ]
     },
     "execution_count": 1,
     "metadata": {},
     "output_type": "execute_result"
    }
   ],
   "source": [
    "set1 = {\"a\",\"b\",\"c\"}\n",
    "set2 = {1,2,3}\n",
    "set3 = set1.union(set2)\n",
    "\n",
    "set3"
   ]
  },
  {
   "cell_type": "markdown",
   "id": "d36b9c36",
   "metadata": {},
   "source": [
    "可以使用运算符代替方法，您将得到相同的结果。| \n"
   ]
  },
  {
   "cell_type": "code",
   "execution_count": 8,
   "id": "680ba264",
   "metadata": {},
   "outputs": [
    {
     "data": {
      "text/plain": [
       "{1, 2, 3, 'a', 'b', 'c'}"
      ]
     },
     "execution_count": 8,
     "metadata": {},
     "output_type": "execute_result"
    }
   ],
   "source": [
    "set1 = {\"a\", \"b\", \"c\"}\n",
    "set2 = {1, 2, 3}\n",
    "set3 = set1 | set2\n",
    "\n",
    "set3"
   ]
  },
  {
   "cell_type": "markdown",
   "id": "60bad14e",
   "metadata": {},
   "source": [
    "### 联接多个集合\n",
    "所有连接方法和运算符都可用于连接多个集合。\n",
    "\n",
    "使用方法时，只需在括号中添加更多集合，用逗号分隔："
   ]
  },
  {
   "cell_type": "code",
   "execution_count": 6,
   "id": "477c5e91",
   "metadata": {},
   "outputs": [
    {
     "data": {
      "text/plain": [
       "{1, 2, 3, 'Elena', 'John', 'a', 'apple', 'b', 'bananas', 'c', 'cherry'}"
      ]
     },
     "execution_count": 6,
     "metadata": {},
     "output_type": "execute_result"
    }
   ],
   "source": [
    "set1 = {\"a\", \"b\", \"c\"}\n",
    "set2 = {1, 2, 3}\n",
    "set3 = {\"John\", \"Elena\"}\n",
    "set4 = {\"apple\", \"bananas\", \"cherry\"}\n",
    "\n",
    "myset = set1.union(set2,set3,set4)\n",
    "myset"
   ]
  },
  {
   "cell_type": "markdown",
   "id": "aff762a4",
   "metadata": {},
   "source": [
    "使用运算符时，将集合分开 使用更多运算符：|  |"
   ]
  },
  {
   "cell_type": "code",
   "execution_count": 9,
   "id": "90cc2a9d",
   "metadata": {},
   "outputs": [
    {
     "name": "stdout",
     "output_type": "stream",
     "text": [
      "{'b', 1, 2, 3, 'bananas', 'John', 'c', 'apple', 'cherry', 'a', 'Elena'}\n"
     ]
    }
   ],
   "source": [
    "set1 = {\"a\", \"b\", \"c\"}\n",
    "set2 = {1, 2, 3}\n",
    "set3 = {\"John\", \"Elena\"}\n",
    "set4 = {\"apple\", \"bananas\", \"cherry\"}\n",
    "\n",
    "myset = set1 | set2 | set3 |set4\n",
    "print(myset)\n"
   ]
  },
  {
   "cell_type": "markdown",
   "id": "dfec340e",
   "metadata": {},
   "source": [
    "## update()\n",
    "该方法将一个集合中的所有项目插入到另一个集合中。update()\n",
    "\n",
    "更改原始集，并且不返回新集。update()"
   ]
  },
  {
   "cell_type": "markdown",
   "id": "2cbbae66",
   "metadata": {},
   "source": [
    "注意：两者都将排除任何重复的项目。union()  update()"
   ]
  },
  {
   "cell_type": "code",
   "execution_count": 19,
   "id": "02cb41aa",
   "metadata": {},
   "outputs": [
    {
     "data": {
      "text/plain": [
       "{1, 2, 3, 'a', 'b', 'c'}"
      ]
     },
     "execution_count": 19,
     "metadata": {},
     "output_type": "execute_result"
    }
   ],
   "source": [
    "set1 = {\"a\", \"b\" , \"c\"}\n",
    "set2 = {1, 2, 3}\n",
    "\n",
    "set1.update(set2)\n",
    "\n",
    "set1"
   ]
  },
  {
   "cell_type": "markdown",
   "id": "c49d4cb3",
   "metadata": {},
   "source": [
    "## intersection()\n",
    "\n",
    "仅保留重复项\n",
    "\n",
    "该方法将返回一个新集合，该集合仅包含两个集合中都存在的项。intersection()"
   ]
  },
  {
   "cell_type": "code",
   "execution_count": 21,
   "id": "1c8ec7be",
   "metadata": {},
   "outputs": [
    {
     "data": {
      "text/plain": [
       "{'apple'}"
      ]
     },
     "execution_count": 21,
     "metadata": {},
     "output_type": "execute_result"
    }
   ],
   "source": [
    "set1 = {\"apple\", \"banana\", \"cherry\"}\n",
    "set2 = {\"google\", \"microsoft\", \"apple\"}\n",
    "\n",
    "set3 = set1.intersection(set2)\n",
    "\n",
    "set3"
   ]
  },
  {
   "cell_type": "markdown",
   "id": "dbccba98",
   "metadata": {},
   "source": [
    "可以使用运算符代替方法，您将得到相同的结果。& intersection()"
   ]
  },
  {
   "cell_type": "code",
   "execution_count": 22,
   "id": "7c6ca321",
   "metadata": {},
   "outputs": [
    {
     "name": "stdout",
     "output_type": "stream",
     "text": [
      "{'apple'}\n"
     ]
    }
   ],
   "source": [
    "set1 = {\"apple\", \"banana\", \"cherry\"}\n",
    "set2 = {\"google\", \"microsoft\", \"apple\"}\n",
    "\n",
    "set3 = set1 & set2\n",
    "print(set3)"
   ]
  },
  {
   "cell_type": "markdown",
   "id": "d52e38d2",
   "metadata": {},
   "source": [
    "## difference()\n",
    "该方法将 返回一个新集合，该集合将仅包含第一个集合中另一个集合中不存在的项。"
   ]
  },
  {
   "cell_type": "code",
   "execution_count": 24,
   "id": "8828c657",
   "metadata": {},
   "outputs": [
    {
     "data": {
      "text/plain": [
       "{'banana', 'cherry'}"
      ]
     },
     "execution_count": 24,
     "metadata": {},
     "output_type": "execute_result"
    }
   ],
   "source": [
    "set1 = {\"apple\", \"banana\", \"cherry\"}\n",
    "set2 = {\"google\", \"microsoft\", \"apple\"}\n",
    "\n",
    "set3 = set1.difference(set2)\n",
    "\n",
    "set3"
   ]
  },
  {
   "cell_type": "markdown",
   "id": "7837c7db",
   "metadata": {},
   "source": [
    "## difference_update()\n",
    "该方法还将保留 第一个集合中不在另一个集合中的项目， 但它会更改原始集合而不是返回新集合。"
   ]
  },
  {
   "cell_type": "code",
   "execution_count": 28,
   "id": "71f4c17f",
   "metadata": {},
   "outputs": [
    {
     "data": {
      "text/plain": [
       "{'999', 'banana', 'cherry'}"
      ]
     },
     "execution_count": 28,
     "metadata": {},
     "output_type": "execute_result"
    }
   ],
   "source": [
    "set1 = {\"apple\", \"banana\", \"cherry\",\"666\",\"999\"}\n",
    "set2 = {\"google\", \"microsoft\", \"apple\",\"666\"}\n",
    "\n",
    "set1.difference_update(set2)\n",
    "set1"
   ]
  },
  {
   "cell_type": "markdown",
   "id": "a997dbfd",
   "metadata": {},
   "source": [
    "## 对称差异\n",
    "该方法将仅保留两个集合中不存在的元素。symmetric_difference()"
   ]
  },
  {
   "cell_type": "code",
   "execution_count": 33,
   "id": "e762479b",
   "metadata": {},
   "outputs": [
    {
     "data": {
      "text/plain": [
       "{'999', 'banana', 'cherry', 'google', 'microsoft'}"
      ]
     },
     "execution_count": 33,
     "metadata": {},
     "output_type": "execute_result"
    }
   ],
   "source": [
    "set1 = {\"apple\", \"banana\", \"cherry\",\"666\",\"999\"}\n",
    "set2 = {\"google\", \"microsoft\", \"apple\",\"666\"}\n",
    "set3 = set1.symmetric_difference(set2)\n",
    "set3"
   ]
  }
 ],
 "metadata": {
  "kernelspec": {
   "display_name": "Python 3",
   "language": "python",
   "name": "python3"
  },
  "language_info": {
   "codemirror_mode": {
    "name": "ipython",
    "version": 3
   },
   "file_extension": ".py",
   "mimetype": "text/x-python",
   "name": "python",
   "nbconvert_exporter": "python",
   "pygments_lexer": "ipython3",
   "version": "3.12.7"
  }
 },
 "nbformat": 4,
 "nbformat_minor": 5
}
