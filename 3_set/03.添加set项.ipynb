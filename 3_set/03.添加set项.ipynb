{
 "cells": [
  {
   "cell_type": "markdown",
   "id": "47c3ccb3",
   "metadata": {},
   "source": [
    "# 添加项目\n",
    "创建集合后，无法更改其项，但可以添加新项。\n",
    "\n",
    "要将一个项目添加到集合中，请使用该方法。add()"
   ]
  },
  {
   "cell_type": "code",
   "execution_count": 4,
   "id": "0d2149cc",
   "metadata": {},
   "outputs": [
    {
     "data": {
      "text/plain": [
       "{'apple', 'banana', 'cherry', 'pink'}"
      ]
     },
     "execution_count": 4,
     "metadata": {},
     "output_type": "execute_result"
    }
   ],
   "source": [
    "thisset = {\"apple\", \"banana\", \"cherry\"}\n",
    "thisset.add(\"pink\")\n",
    "thisset"
   ]
  },
  {
   "cell_type": "markdown",
   "id": "9d35a459",
   "metadata": {},
   "source": [
    "# 添加集\n",
    "要将另一个集中的项添加到当前集中，请使用 该方法。update()"
   ]
  },
  {
   "cell_type": "code",
   "execution_count": 7,
   "id": "01936cdb",
   "metadata": {},
   "outputs": [
    {
     "data": {
      "text/plain": [
       "{'apple', 'banana', 'cherry', 'mango', 'papaya', 'pineapple'}"
      ]
     },
     "execution_count": 7,
     "metadata": {},
     "output_type": "execute_result"
    }
   ],
   "source": [
    "thisset = {\"apple\", \"banana\", \"cherry\"}\n",
    "tropical = {\"pineapple\", \"mango\", \"papaya\"}\n",
    "\n",
    "thisset.update(tropical)\n",
    "thisset"
   ]
  },
  {
   "cell_type": "markdown",
   "id": "17729121",
   "metadata": {},
   "source": [
    "# 添加任何可迭代对象\n",
    "该方法中的对象没有 要成为一个集合，它可以是任何可迭代对象（元组、列表、字典等）。update()"
   ]
  },
  {
   "cell_type": "code",
   "execution_count": 2,
   "id": "4c5e2992",
   "metadata": {},
   "outputs": [
    {
     "data": {
      "text/plain": [
       "{'apple', 'banana', 'cherry', 'kiwi', 'orange'}"
      ]
     },
     "execution_count": 2,
     "metadata": {},
     "output_type": "execute_result"
    }
   ],
   "source": [
    "thisset = {\"apple\", \"banana\", \"cherry\"}\n",
    "mylist = [\"kiwi\", \"orange\"]\n",
    "\n",
    "thisset.update(mylist)\n",
    "\n",
    "thisset"
   ]
  }
 ],
 "metadata": {
  "kernelspec": {
   "display_name": "Python 3",
   "language": "python",
   "name": "python3"
  },
  "language_info": {
   "codemirror_mode": {
    "name": "ipython",
    "version": 3
   },
   "file_extension": ".py",
   "mimetype": "text/x-python",
   "name": "python",
   "nbconvert_exporter": "python",
   "pygments_lexer": "ipython3",
   "version": "3.12.7"
  }
 },
 "nbformat": 4,
 "nbformat_minor": 5
}
