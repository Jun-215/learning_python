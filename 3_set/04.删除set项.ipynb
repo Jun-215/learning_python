{
 "cells": [
  {
   "cell_type": "markdown",
   "id": "87a63ee5",
   "metadata": {},
   "source": [
    "# 删除项目\n",
    "要删除集合中的项，请使用 或 方法。remove() discard()"
   ]
  },
  {
   "cell_type": "code",
   "execution_count": 1,
   "id": "3d333d05",
   "metadata": {},
   "outputs": [
    {
     "data": {
      "text/plain": [
       "{'banana', 'cherry'}"
      ]
     },
     "execution_count": 1,
     "metadata": {},
     "output_type": "execute_result"
    }
   ],
   "source": [
    "thisset = {\"apple\", \"banana\", \"cherry\"}\n",
    "thisset.remove(\"apple\")\n",
    "thisset"
   ]
  },
  {
   "cell_type": "code",
   "execution_count": 2,
   "id": "225c6c40",
   "metadata": {},
   "outputs": [
    {
     "data": {
      "text/plain": [
       "{'cherry'}"
      ]
     },
     "execution_count": 2,
     "metadata": {},
     "output_type": "execute_result"
    }
   ],
   "source": [
    "thisset.discard(\"banana\")\n",
    "thisset"
   ]
  },
  {
   "cell_type": "markdown",
   "id": "6ab8fd88",
   "metadata": {},
   "source": [
    "也可以使用该方法删除 一个项目，但此方法将删除一个随机项目，因此您无法确定删除了哪个项目。pop()\n",
    "\n",
    "该方法的返回值是 已删除的项目。pop()\n",
    "\n",
    "集合是无序的，因此当使用该方法 您不知道哪个项目被删除。pop()"
   ]
  },
  {
   "cell_type": "code",
   "execution_count": 3,
   "id": "8f6f9ee4",
   "metadata": {},
   "outputs": [
    {
     "name": "stdout",
     "output_type": "stream",
     "text": [
      "banana\n"
     ]
    }
   ],
   "source": [
    "thisset = {\"apple\", \"banana\", \"cherry\"}\n",
    "x = thisset.pop()\n",
    "print(x)"
   ]
  },
  {
   "cell_type": "markdown",
   "id": "1f2bbee1",
   "metadata": {},
   "source": [
    "清空集合：clear()"
   ]
  },
  {
   "cell_type": "code",
   "execution_count": 4,
   "id": "a409f620",
   "metadata": {},
   "outputs": [
    {
     "name": "stdout",
     "output_type": "stream",
     "text": [
      "set()\n"
     ]
    }
   ],
   "source": [
    "thisset = {\"apple\", \"banana\", \"cherry\"}\n",
    "\n",
    "thisset.clear()\n",
    "\n",
    "print(thisset)"
   ]
  },
  {
   "cell_type": "markdown",
   "id": "808bde1c",
   "metadata": {},
   "source": [
    "关键字将删除集合 完全：del"
   ]
  },
  {
   "cell_type": "code",
   "execution_count": 6,
   "id": "e6c9003e",
   "metadata": {},
   "outputs": [
    {
     "ename": "NameError",
     "evalue": "name 'thisset' is not defined",
     "output_type": "error",
     "traceback": [
      "\u001b[31m---------------------------------------------------------------------------\u001b[39m",
      "\u001b[31mNameError\u001b[39m                                 Traceback (most recent call last)",
      "\u001b[36mCell\u001b[39m\u001b[36m \u001b[39m\u001b[32mIn[6]\u001b[39m\u001b[32m, line 5\u001b[39m\n\u001b[32m      1\u001b[39m thisset = {\u001b[33m\"\u001b[39m\u001b[33mapple\u001b[39m\u001b[33m\"\u001b[39m, \u001b[33m\"\u001b[39m\u001b[33mbanana\u001b[39m\u001b[33m\"\u001b[39m, \u001b[33m\"\u001b[39m\u001b[33mcherry\u001b[39m\u001b[33m\"\u001b[39m}\n\u001b[32m      3\u001b[39m \u001b[38;5;28;01mdel\u001b[39;00m thisset\n\u001b[32m----> \u001b[39m\u001b[32m5\u001b[39m \u001b[43mthisset\u001b[49m\n",
      "\u001b[31mNameError\u001b[39m: name 'thisset' is not defined"
     ]
    }
   ],
   "source": [
    "thisset = {\"apple\", \"banana\", \"cherry\"}\n",
    "\n",
    "del thisset\n",
    "\n",
    "thisset"
   ]
  }
 ],
 "metadata": {
  "kernelspec": {
   "display_name": "Python 3",
   "language": "python",
   "name": "python3"
  },
  "language_info": {
   "codemirror_mode": {
    "name": "ipython",
    "version": 3
   },
   "file_extension": ".py",
   "mimetype": "text/x-python",
   "name": "python",
   "nbconvert_exporter": "python",
   "pygments_lexer": "ipython3",
   "version": "3.12.7"
  }
 },
 "nbformat": 4,
 "nbformat_minor": 5
}
