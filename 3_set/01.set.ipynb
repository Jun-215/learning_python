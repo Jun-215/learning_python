{
 "cells": [
  {
   "cell_type": "markdown",
   "id": "464ca9cc",
   "metadata": {},
   "source": [
    "# set\n",
    "集合用于在单个变量中存储多个项目。\n",
    "\n",
    "Set 是 Python 中用于存储集合的 4 种内置数据类型之一 数据，其他 3 个是 List、Tuple 和 Dictionary，它们都有不同的质量和用法。\n",
    "\n",
    "集合是一个无序、不可更改*和未索引的集合。\n",
    "\n",
    "*注意：集项目不可更改，但可以删除 项目并添加新项目。"
   ]
  },
  {
   "cell_type": "code",
   "execution_count": 1,
   "id": "607715bc",
   "metadata": {},
   "outputs": [
    {
     "name": "stdout",
     "output_type": "stream",
     "text": [
      "{'apple', 'cherry', 'banana'}\n"
     ]
    }
   ],
   "source": [
    "myset = {\"apple\", \"banana\", \"cherry\"}\n",
    "print(myset)"
   ]
  },
  {
   "cell_type": "markdown",
   "id": "78304b3b",
   "metadata": {},
   "source": [
    "# 无序\n",
    "无序意味着集合中的项目没有定义的顺序。\n",
    "\n",
    "每次使用时，设置项目可以以不同的顺序出现， 并且不能通过索引或键引用。"
   ]
  },
  {
   "cell_type": "markdown",
   "id": "ea348db5",
   "metadata": {},
   "source": [
    "# 一成不变\n",
    "集合项目是不可更改的，这意味着我们无法在创建集合后更改项目。"
   ]
  },
  {
   "cell_type": "markdown",
   "id": "5fdbbf1a",
   "metadata": {},
   "source": [
    "# 不允许重复\n",
    "集合不能有两个具有相同值的项，重复的会被忽略。\n"
   ]
  },
  {
   "cell_type": "code",
   "execution_count": 1,
   "id": "009f15eb",
   "metadata": {},
   "outputs": [
    {
     "name": "stdout",
     "output_type": "stream",
     "text": [
      "{'apple', 'banana', 'cherry'}\n"
     ]
    }
   ],
   "source": [
    "thisset = {\"apple\", \"banana\", \"cherry\", \"apple\"}\n",
    "\n",
    "print(thisset)"
   ]
  },
  {
   "cell_type": "markdown",
   "id": "44da0cea",
   "metadata": {},
   "source": [
    "# 设置项目 - 数据类型\n",
    "\n",
    "设置项可以是任何数据类型："
   ]
  },
  {
   "cell_type": "code",
   "execution_count": 3,
   "id": "fdccf445",
   "metadata": {},
   "outputs": [],
   "source": [
    "set1 = {\"apple\", \"banana\", \"cherry\"}\n",
    "set2 = {1, 5, 7, 9, 3}\n",
    "set3 = {True, False, False}\n",
    "set4 = {\"abc\", 34, True, 40, \"male\"}"
   ]
  }
 ],
 "metadata": {
  "kernelspec": {
   "display_name": "Python 3",
   "language": "python",
   "name": "python3"
  },
  "language_info": {
   "codemirror_mode": {
    "name": "ipython",
    "version": 3
   },
   "file_extension": ".py",
   "mimetype": "text/x-python",
   "name": "python",
   "nbconvert_exporter": "python",
   "pygments_lexer": "ipython3",
   "version": "3.12.7"
  }
 },
 "nbformat": 4,
 "nbformat_minor": 5
}
