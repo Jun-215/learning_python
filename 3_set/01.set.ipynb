{
 "cells": [
  {
   "cell_type": "markdown",
   "id": "464ca9cc",
   "metadata": {},
   "source": [
    "# 设置\n",
    "集合用于在单个变量中存储多个项目。\n",
    "\n",
    "Set 是 Python 中用于存储集合的 4 种内置数据类型之一 数据，其他 3 个是 List、Tuple 和 Dictionary，它们都有不同的质量和用法。\n",
    "\n",
    "集合是一个无序、不可更改*和未索引的集合。\n",
    "\n",
    "*注意：集项目不可更改，但可以删除 项目并添加新项目。"
   ]
  },
  {
   "cell_type": "code",
   "execution_count": 1,
   "id": "607715bc",
   "metadata": {},
   "outputs": [
    {
     "name": "stdout",
     "output_type": "stream",
     "text": [
      "{'apple', 'cherry', 'banana'}\n"
     ]
    }
   ],
   "source": [
    "myset = {\"apple\", \"banana\", \"cherry\"}\n",
    "print(myset)"
   ]
  },
  {
   "cell_type": "markdown",
   "id": "78304b3b",
   "metadata": {},
   "source": [
    "特点：集项无序、不可更改，并且不允许重复值。"
   ]
  }
 ],
 "metadata": {
  "kernelspec": {
   "display_name": "Python 3",
   "language": "python",
   "name": "python3"
  },
  "language_info": {
   "codemirror_mode": {
    "name": "ipython",
    "version": 3
   },
   "file_extension": ".py",
   "mimetype": "text/x-python",
   "name": "python",
   "nbconvert_exporter": "python",
   "pygments_lexer": "ipython3",
   "version": "3.12.7"
  }
 },
 "nbformat": 4,
 "nbformat_minor": 5
}
