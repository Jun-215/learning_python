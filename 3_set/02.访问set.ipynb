{
 "cells": [
  {
   "cell_type": "markdown",
   "id": "d40f0cf0",
   "metadata": {},
   "source": [
    "# 访问项目\n",
    "不能通过引用索引或键来访问集合中的项。\n",
    "\n",
    "但是您可以使用循环循环遍历集合项，或者使用关键字询问集合中是否存在指定值。for in"
   ]
  },
  {
   "cell_type": "code",
   "execution_count": 2,
   "id": "898cf837",
   "metadata": {},
   "outputs": [
    {
     "name": "stdout",
     "output_type": "stream",
     "text": [
      "cherry\n",
      "banana\n",
      "apple\n"
     ]
    }
   ],
   "source": [
    "thisset = {\"apple\", \"banana\", \"cherry\"}\n",
    "for x in thisset:\n",
    "    print(x)"
   ]
  },
  {
   "cell_type": "markdown",
   "id": "7d00753d",
   "metadata": {},
   "source": [
    "检查集合中是否存在“香蕉”："
   ]
  },
  {
   "cell_type": "code",
   "execution_count": 3,
   "id": "117c39c9",
   "metadata": {},
   "outputs": [
    {
     "name": "stdout",
     "output_type": "stream",
     "text": [
      "True\n"
     ]
    }
   ],
   "source": [
    "print(\"banana\" in thisset)"
   ]
  },
  {
   "cell_type": "markdown",
   "id": "c4d28602",
   "metadata": {},
   "source": [
    "检查集合中是否不存在“香蕉”："
   ]
  },
  {
   "cell_type": "code",
   "execution_count": 4,
   "id": "ca496f50",
   "metadata": {},
   "outputs": [
    {
     "name": "stdout",
     "output_type": "stream",
     "text": [
      "False\n"
     ]
    }
   ],
   "source": [
    "print(\"banana\" not in thisset)"
   ]
  }
 ],
 "metadata": {
  "kernelspec": {
   "display_name": "Python 3",
   "language": "python",
   "name": "python3"
  },
  "language_info": {
   "codemirror_mode": {
    "name": "ipython",
    "version": 3
   },
   "file_extension": ".py",
   "mimetype": "text/x-python",
   "name": "python",
   "nbconvert_exporter": "python",
   "pygments_lexer": "ipython3",
   "version": "3.12.7"
  }
 },
 "nbformat": 4,
 "nbformat_minor": 5
}
