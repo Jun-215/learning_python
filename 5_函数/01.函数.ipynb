{
 "cells": [
  {
   "cell_type": "markdown",
   "id": "9bbd47bf",
   "metadata": {},
   "source": [
    "# 任意参数，*args\n",
    "如果您不知道将传递到函数中的参数数量， 在函数定义中的参数名称之前添加*\n",
    "\n",
    "这样，函数将接收一个参数元组，并可以相应地访问项目："
   ]
  },
  {
   "cell_type": "code",
   "execution_count": 1,
   "id": "db03aca1",
   "metadata": {},
   "outputs": [
    {
     "name": "stdout",
     "output_type": "stream",
     "text": [
      "(1, 2, 3, 4, 5)\n"
     ]
    }
   ],
   "source": [
    "def my_fun(*kids):\n",
    "    print(kids)\n",
    "\n",
    "my_fun(1,2,3,4,5)"
   ]
  },
  {
   "cell_type": "markdown",
   "id": "370e407f",
   "metadata": {},
   "source": [
    "# 任意关键字参数，**kwargs\n",
    "如果您不知道将传递到函数中的关键字参数数量， 在函数定义中的参数名称前添加两个星号：。**\n",
    "\n",
    "这样，函数将接收一个参数字典，并可以相应地访问项目："
   ]
  },
  {
   "cell_type": "markdown",
   "id": "9f574edc",
   "metadata": {},
   "source": [
    "如果关键字参数的数量未知，请在参数名称前添加一个双精度：**"
   ]
  },
  {
   "cell_type": "code",
   "execution_count": 2,
   "id": "76ecd00f",
   "metadata": {},
   "outputs": [
    {
     "name": "stdout",
     "output_type": "stream",
     "text": [
      "{'fname': 'Nick', 'lname': 'Eve'}\n"
     ]
    }
   ],
   "source": [
    "def my_fun(**kid):\n",
    "    print(kid)\n",
    "\n",
    "my_fun(fname=\"Nick\",lname=\"Eve\")"
   ]
  },
  {
   "cell_type": "markdown",
   "id": "fac2c10e",
   "metadata": {},
   "source": [
    "# 默认参数值\n",
    "以下示例演示如何使用默认参数值。\n",
    "\n",
    "如果我们在没有参数的情况下调用函数，它使用默认值："
   ]
  },
  {
   "cell_type": "code",
   "execution_count": 4,
   "id": "86cde6a4",
   "metadata": {},
   "outputs": [
    {
     "name": "stdout",
     "output_type": "stream",
     "text": [
      "6\n",
      "10\n"
     ]
    }
   ],
   "source": [
    "def my_fun(num = 10):\n",
    "    print(num)\n",
    "\n",
    "my_fun(6)\n",
    "my_fun()"
   ]
  },
  {
   "cell_type": "markdown",
   "id": "00029aa4",
   "metadata": {},
   "source": [
    "# 将列表作为参数传递\n",
    "您可以向函数发送任何参数类型的数据（字符串、数字、列表、字典等）， 它会的 在函数内被视为相同的数据类型。\n",
    "\n",
    "例如，如果您发送一个 List 作为参数，当它 达到函数："
   ]
  },
  {
   "cell_type": "code",
   "execution_count": 7,
   "id": "0f92e125",
   "metadata": {},
   "outputs": [
    {
     "name": "stdout",
     "output_type": "stream",
     "text": [
      "1\n",
      "2\n",
      "3\n",
      "4\n",
      "5\n",
      "6\n",
      "   \n",
      "s\n",
      "s\n",
      "s\n",
      "d\n",
      "f\n",
      "s\n"
     ]
    }
   ],
   "source": [
    "def my_fun(mylist):\n",
    "    for x in mylist:\n",
    "        print(x)\n",
    "\n",
    "num = [1,2,3,4,5,6]\n",
    "my_fun(num)\n",
    "print(\"   \")\n",
    "my_fun(\"sssdfs\")"
   ]
  },
  {
   "cell_type": "markdown",
   "id": "9722d212",
   "metadata": {},
   "source": [
    "# pass 语句\n",
    "function定义不能为空，但如果 由于某种原因，您有一个没有内容的定义，请放入语句中以避免出现错误。functionpass"
   ]
  },
  {
   "cell_type": "code",
   "execution_count": 8,
   "id": "0bcc520f",
   "metadata": {},
   "outputs": [],
   "source": [
    "def myfunction():\n",
    "  pass"
   ]
  },
  {
   "cell_type": "markdown",
   "id": "9cc4c71d",
   "metadata": {},
   "source": [
    "# 仅位置参数\n",
    "您可以指定函数只能具有位置参数或 ONLY 关键字参数。\n",
    "\n",
    "要指定函数只能具有位置参数，请在参数后面添加：, /"
   ]
  },
  {
   "cell_type": "code",
   "execution_count": null,
   "id": "5c802c30",
   "metadata": {},
   "outputs": [
    {
     "name": "stdout",
     "output_type": "stream",
     "text": [
      "6\n"
     ]
    }
   ],
   "source": [
    "\n",
    "def my_fun(x,/):\n",
    "    print(x)\n",
    "\n",
    "my_fun(6)"
   ]
  },
  {
   "cell_type": "markdown",
   "id": "d0508ad9",
   "metadata": {},
   "source": [
    "等价于“只能用位置传入 x”，所以 my_fun(6) 正常；但 my_fun(x=6) 会报错。"
   ]
  },
  {
   "cell_type": "code",
   "execution_count": 3,
   "id": "33549d8a",
   "metadata": {},
   "outputs": [
    {
     "ename": "TypeError",
     "evalue": "my_fun() got some positional-only arguments passed as keyword arguments: 'x'",
     "output_type": "error",
     "traceback": [
      "\u001b[31m---------------------------------------------------------------------------\u001b[39m",
      "\u001b[31mTypeError\u001b[39m                                 Traceback (most recent call last)",
      "\u001b[36mCell\u001b[39m\u001b[36m \u001b[39m\u001b[32mIn[3]\u001b[39m\u001b[32m, line 4\u001b[39m\n\u001b[32m      1\u001b[39m \u001b[38;5;28;01mdef\u001b[39;00m\u001b[38;5;250m \u001b[39m\u001b[34mmy_fun\u001b[39m(x,/):\n\u001b[32m      2\u001b[39m     \u001b[38;5;28mprint\u001b[39m(x)\n\u001b[32m----> \u001b[39m\u001b[32m4\u001b[39m \u001b[43mmy_fun\u001b[49m\u001b[43m(\u001b[49m\u001b[43mx\u001b[49m\u001b[43m \u001b[49m\u001b[43m=\u001b[49m\u001b[43m \u001b[49m\u001b[32;43m6\u001b[39;49m\u001b[43m)\u001b[49m\n",
      "\u001b[31mTypeError\u001b[39m: my_fun() got some positional-only arguments passed as keyword arguments: 'x'"
     ]
    }
   ],
   "source": [
    "\n",
    "def my_fun(x,/):\n",
    "    print(x)\n",
    "\n",
    "my_fun(x = 6)\n",
    "\n"
   ]
  }
 ],
 "metadata": {
  "kernelspec": {
   "display_name": "Python 3",
   "language": "python",
   "name": "python3"
  },
  "language_info": {
   "codemirror_mode": {
    "name": "ipython",
    "version": 3
   },
   "file_extension": ".py",
   "mimetype": "text/x-python",
   "name": "python",
   "nbconvert_exporter": "python",
   "pygments_lexer": "ipython3",
   "version": "3.12.7"
  }
 },
 "nbformat": 4,
 "nbformat_minor": 5
}
