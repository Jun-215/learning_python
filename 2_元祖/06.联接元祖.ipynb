{
 "cells": [
  {
   "cell_type": "markdown",
   "id": "7eb35641",
   "metadata": {},
   "source": [
    "# 连接两个元组\n",
    "要连接两个或多个元组，您可以使用  +  运算符"
   ]
  },
  {
   "cell_type": "code",
   "execution_count": 2,
   "id": "d7fdb3f4",
   "metadata": {},
   "outputs": [
    {
     "data": {
      "text/plain": [
       "('a', 'b', 'c', 1, 2, 3)"
      ]
     },
     "execution_count": 2,
     "metadata": {},
     "output_type": "execute_result"
    }
   ],
   "source": [
    "tuple1 = (\"a\", \"b\" , \"c\")\n",
    "tuple2 = (1, 2, 3)\n",
    "\n",
    "tuple3 = tuple1 + tuple2\n",
    "\n",
    "tuple3"
   ]
  },
  {
   "cell_type": "markdown",
   "id": "43f4cd00",
   "metadata": {},
   "source": [
    "如果您想将元组的内容重复给定的次数，可以使用  *  运算符："
   ]
  },
  {
   "cell_type": "code",
   "execution_count": 4,
   "id": "d773fbf2",
   "metadata": {},
   "outputs": [
    {
     "data": {
      "text/plain": [
       "('apple', 'banana', 'cherry', 'apple', 'banana', 'cherry')"
      ]
     },
     "execution_count": 4,
     "metadata": {},
     "output_type": "execute_result"
    }
   ],
   "source": [
    "fruits = (\"apple\", \"banana\", \"cherry\")\n",
    "\n",
    "double_tuple = fruits * 2\n",
    "\n",
    "double_tuple"
   ]
  }
 ],
 "metadata": {
  "kernelspec": {
   "display_name": "Python 3",
   "language": "python",
   "name": "python3"
  },
  "language_info": {
   "codemirror_mode": {
    "name": "ipython",
    "version": 3
   },
   "file_extension": ".py",
   "mimetype": "text/x-python",
   "name": "python",
   "nbconvert_exporter": "python",
   "pygments_lexer": "ipython3",
   "version": "3.12.7"
  }
 },
 "nbformat": 4,
 "nbformat_minor": 5
}
