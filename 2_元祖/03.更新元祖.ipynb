{
 "cells": [
  {
   "cell_type": "markdown",
   "id": "fc1e285b",
   "metadata": {},
   "source": [
    "# 更改元组值\n",
    "\n",
    "创建元组后，无法更改其值。元组是不可更改的， 或不可变，也称为不可变。\n",
    "\n",
    "但有一个解决方法。您可以将元组转换为列表，将 列表，并将列表转换回元组。"
   ]
  },
  {
   "cell_type": "code",
   "execution_count": 2,
   "id": "05ab5c6a",
   "metadata": {},
   "outputs": [
    {
     "data": {
      "text/plain": [
       "('apple', 'banana', 'cherry')"
      ]
     },
     "execution_count": 2,
     "metadata": {},
     "output_type": "execute_result"
    }
   ],
   "source": [
    "x = (\"apple\", \"banana\", \"cherry\")\n",
    "\n",
    "x"
   ]
  },
  {
   "cell_type": "code",
   "execution_count": 3,
   "id": "4eacf915",
   "metadata": {},
   "outputs": [
    {
     "data": {
      "text/plain": [
       "['apple', 'banana', 'cherry']"
      ]
     },
     "execution_count": 3,
     "metadata": {},
     "output_type": "execute_result"
    }
   ],
   "source": [
    "y = list(x)\n",
    "y"
   ]
  },
  {
   "cell_type": "code",
   "execution_count": 4,
   "id": "60c6bc77",
   "metadata": {},
   "outputs": [
    {
     "data": {
      "text/plain": [
       "['pink', 'banana', 'cherry']"
      ]
     },
     "execution_count": 4,
     "metadata": {},
     "output_type": "execute_result"
    }
   ],
   "source": [
    "y[0] = \"pink\"\n",
    "y"
   ]
  },
  {
   "cell_type": "code",
   "execution_count": 5,
   "id": "8047e893",
   "metadata": {},
   "outputs": [
    {
     "data": {
      "text/plain": [
       "('pink', 'banana', 'cherry')"
      ]
     },
     "execution_count": 5,
     "metadata": {},
     "output_type": "execute_result"
    }
   ],
   "source": [
    "x = tuple(y)\n",
    "x"
   ]
  },
  {
   "cell_type": "markdown",
   "id": "ef47c4ff",
   "metadata": {},
   "source": [
    "# 添加项目\n",
    "由于元组是不可变的，因此它们没有内置方法，但是 还有其他方法可以将项目添加到元组。append()\n",
    "\n",
    "1. 转换为列表：就像更改元组的解决方法一样，您可以将其转换为列表，添加您的项目，然后将其转换回元组。"
   ]
  },
  {
   "cell_type": "code",
   "execution_count": 8,
   "id": "f2686d47",
   "metadata": {},
   "outputs": [
    {
     "data": {
      "text/plain": [
       "('apple', 'banana', 'cherry', 'pink')"
      ]
     },
     "execution_count": 8,
     "metadata": {},
     "output_type": "execute_result"
    }
   ],
   "source": [
    "thistuple = (\"apple\", \"banana\", \"cherry\")\n",
    "\n",
    "y = list(thistuple)\n",
    "\n",
    "y.append(\"pink\")\n",
    "\n",
    "thistuple = tuple(y)\n",
    "thistuple"
   ]
  },
  {
   "cell_type": "markdown",
   "id": "c95276e7",
   "metadata": {},
   "source": [
    "``注意：创建仅包含一个项目的元组时，请记住包含逗号 ，否则不会被标识为元组。``"
   ]
  },
  {
   "cell_type": "code",
   "execution_count": null,
   "id": "e08f2543",
   "metadata": {},
   "outputs": [
    {
     "data": {
      "text/plain": [
       "tuple"
      ]
     },
     "execution_count": 11,
     "metadata": {},
     "output_type": "execute_result"
    }
   ],
   "source": [
    "x = (\"apple\")\n",
    "y = (\"apple\",)\n",
    "\n",
    "# str\n",
    "type(x)\n",
    "\n",
    "#tuple\n",
    "type(y)"
   ]
  },
  {
   "cell_type": "markdown",
   "id": "1391f393",
   "metadata": {},
   "source": [
    "# 删除项目\n",
    "元组是不可更改的，因此您无法删除项目 从中，但您可以使用与我们用于更改和添加元组项相同的解决方法："
   ]
  },
  {
   "cell_type": "markdown",
   "id": "cc2d27d5",
   "metadata": {},
   "source": [
    "将元组转换为列表，删除“apple”，并将其转换回元组："
   ]
  },
  {
   "cell_type": "code",
   "execution_count": 12,
   "id": "457c71d9",
   "metadata": {},
   "outputs": [
    {
     "data": {
      "text/plain": [
       "['banana', 'cherry']"
      ]
     },
     "execution_count": 12,
     "metadata": {},
     "output_type": "execute_result"
    }
   ],
   "source": [
    "thistuple = (\"apple\", \"banana\", \"cherry\")\n",
    "\n",
    "y = list(thistuple)\n",
    "\n",
    "y.remove(\"apple\")\n",
    "\n",
    "thistuple = tuple(y)\n",
    "\n",
    "y"
   ]
  },
  {
   "cell_type": "markdown",
   "id": "14aec3bb",
   "metadata": {},
   "source": [
    "可以完全删除元组：del"
   ]
  },
  {
   "cell_type": "code",
   "execution_count": 14,
   "id": "325a104f",
   "metadata": {},
   "outputs": [
    {
     "ename": "NameError",
     "evalue": "name 'thistuple' is not defined",
     "output_type": "error",
     "traceback": [
      "\u001b[31m---------------------------------------------------------------------------\u001b[39m",
      "\u001b[31mNameError\u001b[39m                                 Traceback (most recent call last)",
      "\u001b[36mCell\u001b[39m\u001b[36m \u001b[39m\u001b[32mIn[14]\u001b[39m\u001b[32m, line 5\u001b[39m\n\u001b[32m      1\u001b[39m thistuple = (\u001b[33m\"\u001b[39m\u001b[33mapple\u001b[39m\u001b[33m\"\u001b[39m, \u001b[33m\"\u001b[39m\u001b[33mbanana\u001b[39m\u001b[33m\"\u001b[39m, \u001b[33m\"\u001b[39m\u001b[33mcherry\u001b[39m\u001b[33m\"\u001b[39m)\n\u001b[32m      3\u001b[39m \u001b[38;5;28;01mdel\u001b[39;00m thistuple\n\u001b[32m----> \u001b[39m\u001b[32m5\u001b[39m \u001b[43mthistuple\u001b[49m\n",
      "\u001b[31mNameError\u001b[39m: name 'thistuple' is not defined"
     ]
    }
   ],
   "source": [
    "thistuple = (\"apple\", \"banana\", \"cherry\")\n",
    "\n",
    "del thistuple\n",
    "\n",
    "thistuple"
   ]
  }
 ],
 "metadata": {
  "kernelspec": {
   "display_name": "Python 3",
   "language": "python",
   "name": "python3"
  },
  "language_info": {
   "codemirror_mode": {
    "name": "ipython",
    "version": 3
   },
   "file_extension": ".py",
   "mimetype": "text/x-python",
   "name": "python",
   "nbconvert_exporter": "python",
   "pygments_lexer": "ipython3",
   "version": "3.12.7"
  }
 },
 "nbformat": 4,
 "nbformat_minor": 5
}
