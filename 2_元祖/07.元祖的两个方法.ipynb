{
 "cells": [
  {
   "cell_type": "markdown",
   "id": "f3774f56",
   "metadata": {},
   "source": [
    "# 元组 count（） 方法"
   ]
  },
  {
   "cell_type": "code",
   "execution_count": 2,
   "id": "5219eb1a",
   "metadata": {},
   "outputs": [
    {
     "name": "stdout",
     "output_type": "stream",
     "text": [
      "2\n"
     ]
    }
   ],
   "source": [
    "thistuple = (1, 3, 7, 8, 7, 5, 4, 6, 8, 5)\n",
    "\n",
    "# 统计5出现的次数\n",
    "x = thistuple.count(5)\n",
    "\n",
    "print(x)"
   ]
  },
  {
   "cell_type": "markdown",
   "id": "87027d12",
   "metadata": {},
   "source": [
    "# 元组 index（） 方法"
   ]
  },
  {
   "cell_type": "markdown",
   "id": "0eb0702a",
   "metadata": {},
   "source": [
    "搜索值 8 的第一次出现，并返回其 位置："
   ]
  },
  {
   "cell_type": "code",
   "execution_count": 3,
   "id": "8a8bfb83",
   "metadata": {},
   "outputs": [
    {
     "name": "stdout",
     "output_type": "stream",
     "text": [
      "3\n"
     ]
    }
   ],
   "source": [
    "thistuple = (1, 3, 7, 8, 7, 5, 4, 6, 8, 5)\n",
    "\n",
    "x = thistuple.index(8)\n",
    "\n",
    "print(x)"
   ]
  }
 ],
 "metadata": {
  "kernelspec": {
   "display_name": "Python 3",
   "language": "python",
   "name": "python3"
  },
  "language_info": {
   "codemirror_mode": {
    "name": "ipython",
    "version": 3
   },
   "file_extension": ".py",
   "mimetype": "text/x-python",
   "name": "python",
   "nbconvert_exporter": "python",
   "pygments_lexer": "ipython3",
   "version": "3.12.7"
  }
 },
 "nbformat": 4,
 "nbformat_minor": 5
}
