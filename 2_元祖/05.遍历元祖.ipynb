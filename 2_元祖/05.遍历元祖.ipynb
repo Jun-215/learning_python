{
 "cells": [
  {
   "cell_type": "markdown",
   "id": "33677e94",
   "metadata": {},
   "source": [
    "# 遍历元组\n",
    "您可以使用  for  循环遍历元组中的各项。"
   ]
  },
  {
   "cell_type": "code",
   "execution_count": 3,
   "id": "811e1df4",
   "metadata": {},
   "outputs": [
    {
     "name": "stdout",
     "output_type": "stream",
     "text": [
      "apple\n",
      "banana\n",
      "cherry\n"
     ]
    }
   ],
   "source": [
    "thistuple = \"apple\", \"banana\", \"cherry\"\n",
    "\n",
    "for x in thistuple:\n",
    "    print(x)"
   ]
  },
  {
   "cell_type": "markdown",
   "id": "6f59342b",
   "metadata": {},
   "source": [
    "# 遍历索引编号\n",
    "您也可以通过引用元组项的索引编号来循环遍历元组中的各项。\n",
    "\n",
    "使用  range()  和  len()  函数创建一个合适的可迭代对象。"
   ]
  },
  {
   "cell_type": "markdown",
   "id": "beef9d5e",
   "metadata": {},
   "source": [
    "range()是一个内置函数，用于​​生成一个整数序列​​，通常用在循环中，比如 for循环。它​​不直接返回一个列表​​，而是一个​​可迭代对象。\n"
   ]
  },
  {
   "cell_type": "markdown",
   "id": "3a272b46",
   "metadata": {},
   "source": [
    "1. range(stop)：生成从 0开始，到 stop - 1结束的整数序列，​​步长为 1​​。"
   ]
  },
  {
   "cell_type": "code",
   "execution_count": 4,
   "id": "99b981ac",
   "metadata": {},
   "outputs": [
    {
     "name": "stdout",
     "output_type": "stream",
     "text": [
      "0\n",
      "1\n",
      "2\n",
      "3\n",
      "4\n"
     ]
    }
   ],
   "source": [
    "for x in range(5):\n",
    "    print(x)"
   ]
  },
  {
   "cell_type": "markdown",
   "id": "5c704ae9",
   "metadata": {},
   "source": [
    "2. range(start, stop)：生成从 start开始（包含），到 stop - 1结束（不包含）的整数序列，​​步长为 1​​。"
   ]
  },
  {
   "cell_type": "code",
   "execution_count": 5,
   "id": "b67c53f8",
   "metadata": {},
   "outputs": [
    {
     "name": "stdout",
     "output_type": "stream",
     "text": [
      "0\n",
      "1\n",
      "2\n",
      "3\n",
      "4\n"
     ]
    }
   ],
   "source": [
    "for x in range(0,5):\n",
    "    print(x)"
   ]
  },
  {
   "cell_type": "code",
   "execution_count": 7,
   "id": "856ce4ae",
   "metadata": {},
   "outputs": [
    {
     "name": "stdout",
     "output_type": "stream",
     "text": [
      "apple\n",
      "banana\n",
      "cherry\n"
     ]
    }
   ],
   "source": [
    "thistuple = \"apple\", \"banana\", \"cherry\"\n",
    "\n",
    "for x in range(len(thistuple)):\n",
    "    print(thistuple[x])"
   ]
  },
  {
   "cell_type": "code",
   "execution_count": 8,
   "id": "e00f04af",
   "metadata": {},
   "outputs": [
    {
     "name": "stdout",
     "output_type": "stream",
     "text": [
      "apple\n",
      "banana\n",
      "cherry\n"
     ]
    }
   ],
   "source": [
    "i = 0\n",
    "\n",
    "while i < len(thistuple):\n",
    "    print(thistuple[i])\n",
    "    i+=1\n",
    "    "
   ]
  }
 ],
 "metadata": {
  "kernelspec": {
   "display_name": "Python 3",
   "language": "python",
   "name": "python3"
  },
  "language_info": {
   "codemirror_mode": {
    "name": "ipython",
    "version": 3
   },
   "file_extension": ".py",
   "mimetype": "text/x-python",
   "name": "python",
   "nbconvert_exporter": "python",
   "pygments_lexer": "ipython3",
   "version": "3.12.7"
  }
 },
 "nbformat": 4,
 "nbformat_minor": 5
}
