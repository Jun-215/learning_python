{
 "cells": [
  {
   "cell_type": "markdown",
   "id": "aea664a8",
   "metadata": {},
   "source": [
    "# 解包Tuple\n",
    "当我们创建一个元组时，通常会为其赋值。这被称为“打包”元组："
   ]
  },
  {
   "cell_type": "code",
   "execution_count": null,
   "id": "31cf548c",
   "metadata": {},
   "outputs": [],
   "source": [
    "fruits = (\"apple\", \"banana\", \"cherry\")"
   ]
  },
  {
   "cell_type": "markdown",
   "id": "621daa97",
   "metadata": {},
   "source": [
    "但在 Python 中，我们还可以将这些值重新提取到变量中。这被称为“解包”："
   ]
  },
  {
   "cell_type": "markdown",
   "id": "3778490e",
   "metadata": {},
   "source": [
    "这是 ​​元组解包（unpacking）​​ 的语法。\n",
    "\n",
    "\n",
    "它的意思是：将元组 fruits中的​​按顺序的值​​，分别赋值给变量 green、yellow和 red。"
   ]
  },
  {
   "cell_type": "markdown",
   "id": "53c4048b",
   "metadata": {},
   "source": [
    "\n",
    "fruits[0]即 \"apple\"→ 赋值给变量 green\n",
    "\n",
    "fruits[1]即 \"banana\"→ 赋值给变量 yellow\n",
    "\n",
    "fruits[2]即 \"cherry\"→ 赋值给变量 red\n",
    "\n",
    "注意：变量的数量必须与元组中的值的数量相匹配，如果不匹配，则必须使用星号将剩余的值收集到一个列表中。"
   ]
  },
  {
   "cell_type": "code",
   "execution_count": 3,
   "id": "d3917302",
   "metadata": {},
   "outputs": [
    {
     "name": "stdout",
     "output_type": "stream",
     "text": [
      "apple\n",
      "banana\n",
      "cherry\n"
     ]
    }
   ],
   "source": [
    "fruits = (\"apple\", \"banana\", \"cherry\")\n",
    "(green, yellow, red) = fruits\n",
    "\n",
    "print(green)\n",
    "print(yellow)\n",
    "print(red)"
   ]
  },
  {
   "cell_type": "markdown",
   "id": "a8038c7c",
   "metadata": {},
   "source": [
    "# 使用星号 *\n",
    "如果变量的数量少于值的数量，您可以在变量名后添加一个“*”，值将作为列表分配给该变量。"
   ]
  },
  {
   "cell_type": "markdown",
   "id": "d609e10d",
   "metadata": {},
   "source": [
    "将其余的值作为一个名为“red”的列表进行赋值："
   ]
  },
  {
   "cell_type": "code",
   "execution_count": 7,
   "id": "16a491bb",
   "metadata": {},
   "outputs": [
    {
     "name": "stdout",
     "output_type": "stream",
     "text": [
      "['cherry', 'strawberry', 'raspberry']\n"
     ]
    }
   ],
   "source": [
    "fruits = (\"apple\", \"banana\", \"cherry\", \"strawberry\", \"raspberry\")\n",
    "\n",
    "(green,yellow,*red) = fruits\n",
    "\n",
    "# 列表的形式\n",
    "print(red)"
   ]
  },
  {
   "cell_type": "markdown",
   "id": "62b739cb",
   "metadata": {},
   "source": [
    "如果星号不是加在最后一个变量名上，Python 就会将值赋给变量，直到剩余的值的数量与剩余变量的数量相匹配。"
   ]
  },
  {
   "cell_type": "code",
   "execution_count": 6,
   "id": "204acb11",
   "metadata": {},
   "outputs": [
    {
     "name": "stdout",
     "output_type": "stream",
     "text": [
      "apple\n",
      "['banana', 'cherry', 'strawberry']\n",
      "raspberry\n"
     ]
    }
   ],
   "source": [
    "(green,*yellow,red) = fruits\n",
    "\n",
    "print(green)\n",
    "print(yellow)\n",
    "print(red)"
   ]
  }
 ],
 "metadata": {
  "kernelspec": {
   "display_name": "Python 3",
   "language": "python",
   "name": "python3"
  },
  "language_info": {
   "codemirror_mode": {
    "name": "ipython",
    "version": 3
   },
   "file_extension": ".py",
   "mimetype": "text/x-python",
   "name": "python",
   "nbconvert_exporter": "python",
   "pygments_lexer": "ipython3",
   "version": "3.12.7"
  }
 },
 "nbformat": 4,
 "nbformat_minor": 5
}
